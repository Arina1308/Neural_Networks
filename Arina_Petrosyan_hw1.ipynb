{
  "nbformat": 4,
  "nbformat_minor": 0,
  "metadata": {
    "kernelspec": {
      "display_name": "Python 3",
      "language": "python",
      "name": "python3"
    },
    "language_info": {
      "codemirror_mode": {
        "name": "ipython",
        "version": 3
      },
      "file_extension": ".py",
      "mimetype": "text/x-python",
      "name": "python",
      "nbconvert_exporter": "python",
      "pygments_lexer": "ipython3",
      "version": "3.7.7"
    },
    "colab": {
      "name": "hw1.ipynb",
      "provenance": [],
      "collapsed_sections": [
        "NRtxuYgDMBUD",
        "ZbSteKIDAPPI",
        "mc3ZhSDlWHvw",
        "eMI8kOb8WPZA",
        "cQjDmO9mWzkP"
      ]
    },
    "accelerator": "GPU",
    "widgets": {
      "application/vnd.jupyter.widget-state+json": {
        "777e989b385144668ade4779c3f1c8df": {
          "model_module": "@jupyter-widgets/controls",
          "model_name": "HBoxModel",
          "state": {
            "_view_name": "HBoxView",
            "_dom_classes": [],
            "_model_name": "HBoxModel",
            "_view_module": "@jupyter-widgets/controls",
            "_model_module_version": "1.5.0",
            "_view_count": null,
            "_view_module_version": "1.5.0",
            "box_style": "",
            "layout": "IPY_MODEL_ac5a5e9df3064881ba7ac66d48d9dc52",
            "_model_module": "@jupyter-widgets/controls",
            "children": [
              "IPY_MODEL_7793423f4c8d437685b9056f61a1e40f",
              "IPY_MODEL_f6e1f455c75d4e3899e3f4f58f7bfa98"
            ]
          }
        },
        "ac5a5e9df3064881ba7ac66d48d9dc52": {
          "model_module": "@jupyter-widgets/base",
          "model_name": "LayoutModel",
          "state": {
            "_view_name": "LayoutView",
            "grid_template_rows": null,
            "right": null,
            "justify_content": null,
            "_view_module": "@jupyter-widgets/base",
            "overflow": null,
            "_model_module_version": "1.2.0",
            "_view_count": null,
            "flex_flow": null,
            "width": null,
            "min_width": null,
            "border": null,
            "align_items": null,
            "bottom": null,
            "_model_module": "@jupyter-widgets/base",
            "top": null,
            "grid_column": null,
            "overflow_y": null,
            "overflow_x": null,
            "grid_auto_flow": null,
            "grid_area": null,
            "grid_template_columns": null,
            "flex": null,
            "_model_name": "LayoutModel",
            "justify_items": null,
            "grid_row": null,
            "max_height": null,
            "align_content": null,
            "visibility": null,
            "align_self": null,
            "height": null,
            "min_height": null,
            "padding": null,
            "grid_auto_rows": null,
            "grid_gap": null,
            "max_width": null,
            "order": null,
            "_view_module_version": "1.2.0",
            "grid_template_areas": null,
            "object_position": null,
            "object_fit": null,
            "grid_auto_columns": null,
            "margin": null,
            "display": null,
            "left": null
          }
        },
        "7793423f4c8d437685b9056f61a1e40f": {
          "model_module": "@jupyter-widgets/controls",
          "model_name": "FloatProgressModel",
          "state": {
            "_view_name": "ProgressView",
            "style": "IPY_MODEL_164bb077a8d947339f667fe018efe895",
            "_dom_classes": [],
            "description": "",
            "_model_name": "FloatProgressModel",
            "bar_style": "success",
            "max": 1,
            "_view_module": "@jupyter-widgets/controls",
            "_model_module_version": "1.5.0",
            "value": 1,
            "_view_count": null,
            "_view_module_version": "1.5.0",
            "orientation": "horizontal",
            "min": 0,
            "description_tooltip": null,
            "_model_module": "@jupyter-widgets/controls",
            "layout": "IPY_MODEL_d0d49dbfc7244daea57a5a15bedd35cd"
          }
        },
        "f6e1f455c75d4e3899e3f4f58f7bfa98": {
          "model_module": "@jupyter-widgets/controls",
          "model_name": "HTMLModel",
          "state": {
            "_view_name": "HTMLView",
            "style": "IPY_MODEL_dd952f17a37142b68ac18d4e4b2eb1b6",
            "_dom_classes": [],
            "description": "",
            "_model_name": "HTMLModel",
            "placeholder": "​",
            "_view_module": "@jupyter-widgets/controls",
            "_model_module_version": "1.5.0",
            "value": " 26427392/? [00:06&lt;00:00, 4094967.00it/s]",
            "_view_count": null,
            "_view_module_version": "1.5.0",
            "description_tooltip": null,
            "_model_module": "@jupyter-widgets/controls",
            "layout": "IPY_MODEL_fe9ab952da8b48169095022a689ffe1b"
          }
        },
        "164bb077a8d947339f667fe018efe895": {
          "model_module": "@jupyter-widgets/controls",
          "model_name": "ProgressStyleModel",
          "state": {
            "_view_name": "StyleView",
            "_model_name": "ProgressStyleModel",
            "description_width": "initial",
            "_view_module": "@jupyter-widgets/base",
            "_model_module_version": "1.5.0",
            "_view_count": null,
            "_view_module_version": "1.2.0",
            "bar_color": null,
            "_model_module": "@jupyter-widgets/controls"
          }
        },
        "d0d49dbfc7244daea57a5a15bedd35cd": {
          "model_module": "@jupyter-widgets/base",
          "model_name": "LayoutModel",
          "state": {
            "_view_name": "LayoutView",
            "grid_template_rows": null,
            "right": null,
            "justify_content": null,
            "_view_module": "@jupyter-widgets/base",
            "overflow": null,
            "_model_module_version": "1.2.0",
            "_view_count": null,
            "flex_flow": null,
            "width": null,
            "min_width": null,
            "border": null,
            "align_items": null,
            "bottom": null,
            "_model_module": "@jupyter-widgets/base",
            "top": null,
            "grid_column": null,
            "overflow_y": null,
            "overflow_x": null,
            "grid_auto_flow": null,
            "grid_area": null,
            "grid_template_columns": null,
            "flex": null,
            "_model_name": "LayoutModel",
            "justify_items": null,
            "grid_row": null,
            "max_height": null,
            "align_content": null,
            "visibility": null,
            "align_self": null,
            "height": null,
            "min_height": null,
            "padding": null,
            "grid_auto_rows": null,
            "grid_gap": null,
            "max_width": null,
            "order": null,
            "_view_module_version": "1.2.0",
            "grid_template_areas": null,
            "object_position": null,
            "object_fit": null,
            "grid_auto_columns": null,
            "margin": null,
            "display": null,
            "left": null
          }
        },
        "dd952f17a37142b68ac18d4e4b2eb1b6": {
          "model_module": "@jupyter-widgets/controls",
          "model_name": "DescriptionStyleModel",
          "state": {
            "_view_name": "StyleView",
            "_model_name": "DescriptionStyleModel",
            "description_width": "",
            "_view_module": "@jupyter-widgets/base",
            "_model_module_version": "1.5.0",
            "_view_count": null,
            "_view_module_version": "1.2.0",
            "_model_module": "@jupyter-widgets/controls"
          }
        },
        "fe9ab952da8b48169095022a689ffe1b": {
          "model_module": "@jupyter-widgets/base",
          "model_name": "LayoutModel",
          "state": {
            "_view_name": "LayoutView",
            "grid_template_rows": null,
            "right": null,
            "justify_content": null,
            "_view_module": "@jupyter-widgets/base",
            "overflow": null,
            "_model_module_version": "1.2.0",
            "_view_count": null,
            "flex_flow": null,
            "width": null,
            "min_width": null,
            "border": null,
            "align_items": null,
            "bottom": null,
            "_model_module": "@jupyter-widgets/base",
            "top": null,
            "grid_column": null,
            "overflow_y": null,
            "overflow_x": null,
            "grid_auto_flow": null,
            "grid_area": null,
            "grid_template_columns": null,
            "flex": null,
            "_model_name": "LayoutModel",
            "justify_items": null,
            "grid_row": null,
            "max_height": null,
            "align_content": null,
            "visibility": null,
            "align_self": null,
            "height": null,
            "min_height": null,
            "padding": null,
            "grid_auto_rows": null,
            "grid_gap": null,
            "max_width": null,
            "order": null,
            "_view_module_version": "1.2.0",
            "grid_template_areas": null,
            "object_position": null,
            "object_fit": null,
            "grid_auto_columns": null,
            "margin": null,
            "display": null,
            "left": null
          }
        },
        "6b2fc4c1eabf4191ad7a1cad7c98f5dd": {
          "model_module": "@jupyter-widgets/controls",
          "model_name": "HBoxModel",
          "state": {
            "_view_name": "HBoxView",
            "_dom_classes": [],
            "_model_name": "HBoxModel",
            "_view_module": "@jupyter-widgets/controls",
            "_model_module_version": "1.5.0",
            "_view_count": null,
            "_view_module_version": "1.5.0",
            "box_style": "",
            "layout": "IPY_MODEL_db7770ae06cd42fcbf018dc0b4294166",
            "_model_module": "@jupyter-widgets/controls",
            "children": [
              "IPY_MODEL_a8334b65e922443d9aa45ec7cc9659d4",
              "IPY_MODEL_ed224af5e6ff4b2aae05de5b29fc8ab4"
            ]
          }
        },
        "db7770ae06cd42fcbf018dc0b4294166": {
          "model_module": "@jupyter-widgets/base",
          "model_name": "LayoutModel",
          "state": {
            "_view_name": "LayoutView",
            "grid_template_rows": null,
            "right": null,
            "justify_content": null,
            "_view_module": "@jupyter-widgets/base",
            "overflow": null,
            "_model_module_version": "1.2.0",
            "_view_count": null,
            "flex_flow": null,
            "width": null,
            "min_width": null,
            "border": null,
            "align_items": null,
            "bottom": null,
            "_model_module": "@jupyter-widgets/base",
            "top": null,
            "grid_column": null,
            "overflow_y": null,
            "overflow_x": null,
            "grid_auto_flow": null,
            "grid_area": null,
            "grid_template_columns": null,
            "flex": null,
            "_model_name": "LayoutModel",
            "justify_items": null,
            "grid_row": null,
            "max_height": null,
            "align_content": null,
            "visibility": null,
            "align_self": null,
            "height": null,
            "min_height": null,
            "padding": null,
            "grid_auto_rows": null,
            "grid_gap": null,
            "max_width": null,
            "order": null,
            "_view_module_version": "1.2.0",
            "grid_template_areas": null,
            "object_position": null,
            "object_fit": null,
            "grid_auto_columns": null,
            "margin": null,
            "display": null,
            "left": null
          }
        },
        "a8334b65e922443d9aa45ec7cc9659d4": {
          "model_module": "@jupyter-widgets/controls",
          "model_name": "FloatProgressModel",
          "state": {
            "_view_name": "ProgressView",
            "style": "IPY_MODEL_37e409850a3848bdb8770d0f47c9d644",
            "_dom_classes": [],
            "description": "",
            "_model_name": "FloatProgressModel",
            "bar_style": "success",
            "max": 1,
            "_view_module": "@jupyter-widgets/controls",
            "_model_module_version": "1.5.0",
            "value": 1,
            "_view_count": null,
            "_view_module_version": "1.5.0",
            "orientation": "horizontal",
            "min": 0,
            "description_tooltip": null,
            "_model_module": "@jupyter-widgets/controls",
            "layout": "IPY_MODEL_c2e45ec593e846a291d662dc35edd284"
          }
        },
        "ed224af5e6ff4b2aae05de5b29fc8ab4": {
          "model_module": "@jupyter-widgets/controls",
          "model_name": "HTMLModel",
          "state": {
            "_view_name": "HTMLView",
            "style": "IPY_MODEL_3bd35c97fa9c4b5db8c893ac89ec5188",
            "_dom_classes": [],
            "description": "",
            "_model_name": "HTMLModel",
            "placeholder": "​",
            "_view_module": "@jupyter-widgets/controls",
            "_model_module_version": "1.5.0",
            "value": " 32768/? [00:00&lt;00:00, 34500.05it/s]",
            "_view_count": null,
            "_view_module_version": "1.5.0",
            "description_tooltip": null,
            "_model_module": "@jupyter-widgets/controls",
            "layout": "IPY_MODEL_542355f4dd0549a88acbd977045ec90b"
          }
        },
        "37e409850a3848bdb8770d0f47c9d644": {
          "model_module": "@jupyter-widgets/controls",
          "model_name": "ProgressStyleModel",
          "state": {
            "_view_name": "StyleView",
            "_model_name": "ProgressStyleModel",
            "description_width": "initial",
            "_view_module": "@jupyter-widgets/base",
            "_model_module_version": "1.5.0",
            "_view_count": null,
            "_view_module_version": "1.2.0",
            "bar_color": null,
            "_model_module": "@jupyter-widgets/controls"
          }
        },
        "c2e45ec593e846a291d662dc35edd284": {
          "model_module": "@jupyter-widgets/base",
          "model_name": "LayoutModel",
          "state": {
            "_view_name": "LayoutView",
            "grid_template_rows": null,
            "right": null,
            "justify_content": null,
            "_view_module": "@jupyter-widgets/base",
            "overflow": null,
            "_model_module_version": "1.2.0",
            "_view_count": null,
            "flex_flow": null,
            "width": null,
            "min_width": null,
            "border": null,
            "align_items": null,
            "bottom": null,
            "_model_module": "@jupyter-widgets/base",
            "top": null,
            "grid_column": null,
            "overflow_y": null,
            "overflow_x": null,
            "grid_auto_flow": null,
            "grid_area": null,
            "grid_template_columns": null,
            "flex": null,
            "_model_name": "LayoutModel",
            "justify_items": null,
            "grid_row": null,
            "max_height": null,
            "align_content": null,
            "visibility": null,
            "align_self": null,
            "height": null,
            "min_height": null,
            "padding": null,
            "grid_auto_rows": null,
            "grid_gap": null,
            "max_width": null,
            "order": null,
            "_view_module_version": "1.2.0",
            "grid_template_areas": null,
            "object_position": null,
            "object_fit": null,
            "grid_auto_columns": null,
            "margin": null,
            "display": null,
            "left": null
          }
        },
        "3bd35c97fa9c4b5db8c893ac89ec5188": {
          "model_module": "@jupyter-widgets/controls",
          "model_name": "DescriptionStyleModel",
          "state": {
            "_view_name": "StyleView",
            "_model_name": "DescriptionStyleModel",
            "description_width": "",
            "_view_module": "@jupyter-widgets/base",
            "_model_module_version": "1.5.0",
            "_view_count": null,
            "_view_module_version": "1.2.0",
            "_model_module": "@jupyter-widgets/controls"
          }
        },
        "542355f4dd0549a88acbd977045ec90b": {
          "model_module": "@jupyter-widgets/base",
          "model_name": "LayoutModel",
          "state": {
            "_view_name": "LayoutView",
            "grid_template_rows": null,
            "right": null,
            "justify_content": null,
            "_view_module": "@jupyter-widgets/base",
            "overflow": null,
            "_model_module_version": "1.2.0",
            "_view_count": null,
            "flex_flow": null,
            "width": null,
            "min_width": null,
            "border": null,
            "align_items": null,
            "bottom": null,
            "_model_module": "@jupyter-widgets/base",
            "top": null,
            "grid_column": null,
            "overflow_y": null,
            "overflow_x": null,
            "grid_auto_flow": null,
            "grid_area": null,
            "grid_template_columns": null,
            "flex": null,
            "_model_name": "LayoutModel",
            "justify_items": null,
            "grid_row": null,
            "max_height": null,
            "align_content": null,
            "visibility": null,
            "align_self": null,
            "height": null,
            "min_height": null,
            "padding": null,
            "grid_auto_rows": null,
            "grid_gap": null,
            "max_width": null,
            "order": null,
            "_view_module_version": "1.2.0",
            "grid_template_areas": null,
            "object_position": null,
            "object_fit": null,
            "grid_auto_columns": null,
            "margin": null,
            "display": null,
            "left": null
          }
        },
        "9e21cd6ef41f43759dc3a2b43b90b975": {
          "model_module": "@jupyter-widgets/controls",
          "model_name": "HBoxModel",
          "state": {
            "_view_name": "HBoxView",
            "_dom_classes": [],
            "_model_name": "HBoxModel",
            "_view_module": "@jupyter-widgets/controls",
            "_model_module_version": "1.5.0",
            "_view_count": null,
            "_view_module_version": "1.5.0",
            "box_style": "",
            "layout": "IPY_MODEL_e1a774738f7a4acb97a57ab7ac499213",
            "_model_module": "@jupyter-widgets/controls",
            "children": [
              "IPY_MODEL_464f4a26c203467cb790b9aba0c5ea46",
              "IPY_MODEL_81e004d44cda4de5b4bba3c9062bcaf1"
            ]
          }
        },
        "e1a774738f7a4acb97a57ab7ac499213": {
          "model_module": "@jupyter-widgets/base",
          "model_name": "LayoutModel",
          "state": {
            "_view_name": "LayoutView",
            "grid_template_rows": null,
            "right": null,
            "justify_content": null,
            "_view_module": "@jupyter-widgets/base",
            "overflow": null,
            "_model_module_version": "1.2.0",
            "_view_count": null,
            "flex_flow": null,
            "width": null,
            "min_width": null,
            "border": null,
            "align_items": null,
            "bottom": null,
            "_model_module": "@jupyter-widgets/base",
            "top": null,
            "grid_column": null,
            "overflow_y": null,
            "overflow_x": null,
            "grid_auto_flow": null,
            "grid_area": null,
            "grid_template_columns": null,
            "flex": null,
            "_model_name": "LayoutModel",
            "justify_items": null,
            "grid_row": null,
            "max_height": null,
            "align_content": null,
            "visibility": null,
            "align_self": null,
            "height": null,
            "min_height": null,
            "padding": null,
            "grid_auto_rows": null,
            "grid_gap": null,
            "max_width": null,
            "order": null,
            "_view_module_version": "1.2.0",
            "grid_template_areas": null,
            "object_position": null,
            "object_fit": null,
            "grid_auto_columns": null,
            "margin": null,
            "display": null,
            "left": null
          }
        },
        "464f4a26c203467cb790b9aba0c5ea46": {
          "model_module": "@jupyter-widgets/controls",
          "model_name": "FloatProgressModel",
          "state": {
            "_view_name": "ProgressView",
            "style": "IPY_MODEL_3b5b038d830a44eab592a8dfc3839024",
            "_dom_classes": [],
            "description": "",
            "_model_name": "FloatProgressModel",
            "bar_style": "info",
            "max": 1,
            "_view_module": "@jupyter-widgets/controls",
            "_model_module_version": "1.5.0",
            "value": 1,
            "_view_count": null,
            "_view_module_version": "1.5.0",
            "orientation": "horizontal",
            "min": 0,
            "description_tooltip": null,
            "_model_module": "@jupyter-widgets/controls",
            "layout": "IPY_MODEL_6f619cc8d1c94adc807a62b14e348e3b"
          }
        },
        "81e004d44cda4de5b4bba3c9062bcaf1": {
          "model_module": "@jupyter-widgets/controls",
          "model_name": "HTMLModel",
          "state": {
            "_view_name": "HTMLView",
            "style": "IPY_MODEL_e3527a12f0ce45238c8df156505233fe",
            "_dom_classes": [],
            "description": "",
            "_model_name": "HTMLModel",
            "placeholder": "​",
            "_view_module": "@jupyter-widgets/controls",
            "_model_module_version": "1.5.0",
            "value": " 4423680/? [00:13&lt;00:00, 375645.56it/s]",
            "_view_count": null,
            "_view_module_version": "1.5.0",
            "description_tooltip": null,
            "_model_module": "@jupyter-widgets/controls",
            "layout": "IPY_MODEL_fe58ec58982c446bb8404cbac1e60801"
          }
        },
        "3b5b038d830a44eab592a8dfc3839024": {
          "model_module": "@jupyter-widgets/controls",
          "model_name": "ProgressStyleModel",
          "state": {
            "_view_name": "StyleView",
            "_model_name": "ProgressStyleModel",
            "description_width": "initial",
            "_view_module": "@jupyter-widgets/base",
            "_model_module_version": "1.5.0",
            "_view_count": null,
            "_view_module_version": "1.2.0",
            "bar_color": null,
            "_model_module": "@jupyter-widgets/controls"
          }
        },
        "6f619cc8d1c94adc807a62b14e348e3b": {
          "model_module": "@jupyter-widgets/base",
          "model_name": "LayoutModel",
          "state": {
            "_view_name": "LayoutView",
            "grid_template_rows": null,
            "right": null,
            "justify_content": null,
            "_view_module": "@jupyter-widgets/base",
            "overflow": null,
            "_model_module_version": "1.2.0",
            "_view_count": null,
            "flex_flow": null,
            "width": null,
            "min_width": null,
            "border": null,
            "align_items": null,
            "bottom": null,
            "_model_module": "@jupyter-widgets/base",
            "top": null,
            "grid_column": null,
            "overflow_y": null,
            "overflow_x": null,
            "grid_auto_flow": null,
            "grid_area": null,
            "grid_template_columns": null,
            "flex": null,
            "_model_name": "LayoutModel",
            "justify_items": null,
            "grid_row": null,
            "max_height": null,
            "align_content": null,
            "visibility": null,
            "align_self": null,
            "height": null,
            "min_height": null,
            "padding": null,
            "grid_auto_rows": null,
            "grid_gap": null,
            "max_width": null,
            "order": null,
            "_view_module_version": "1.2.0",
            "grid_template_areas": null,
            "object_position": null,
            "object_fit": null,
            "grid_auto_columns": null,
            "margin": null,
            "display": null,
            "left": null
          }
        },
        "e3527a12f0ce45238c8df156505233fe": {
          "model_module": "@jupyter-widgets/controls",
          "model_name": "DescriptionStyleModel",
          "state": {
            "_view_name": "StyleView",
            "_model_name": "DescriptionStyleModel",
            "description_width": "",
            "_view_module": "@jupyter-widgets/base",
            "_model_module_version": "1.5.0",
            "_view_count": null,
            "_view_module_version": "1.2.0",
            "_model_module": "@jupyter-widgets/controls"
          }
        },
        "fe58ec58982c446bb8404cbac1e60801": {
          "model_module": "@jupyter-widgets/base",
          "model_name": "LayoutModel",
          "state": {
            "_view_name": "LayoutView",
            "grid_template_rows": null,
            "right": null,
            "justify_content": null,
            "_view_module": "@jupyter-widgets/base",
            "overflow": null,
            "_model_module_version": "1.2.0",
            "_view_count": null,
            "flex_flow": null,
            "width": null,
            "min_width": null,
            "border": null,
            "align_items": null,
            "bottom": null,
            "_model_module": "@jupyter-widgets/base",
            "top": null,
            "grid_column": null,
            "overflow_y": null,
            "overflow_x": null,
            "grid_auto_flow": null,
            "grid_area": null,
            "grid_template_columns": null,
            "flex": null,
            "_model_name": "LayoutModel",
            "justify_items": null,
            "grid_row": null,
            "max_height": null,
            "align_content": null,
            "visibility": null,
            "align_self": null,
            "height": null,
            "min_height": null,
            "padding": null,
            "grid_auto_rows": null,
            "grid_gap": null,
            "max_width": null,
            "order": null,
            "_view_module_version": "1.2.0",
            "grid_template_areas": null,
            "object_position": null,
            "object_fit": null,
            "grid_auto_columns": null,
            "margin": null,
            "display": null,
            "left": null
          }
        },
        "08873462f4d94493ba1e09f8ccb661d0": {
          "model_module": "@jupyter-widgets/controls",
          "model_name": "HBoxModel",
          "state": {
            "_view_name": "HBoxView",
            "_dom_classes": [],
            "_model_name": "HBoxModel",
            "_view_module": "@jupyter-widgets/controls",
            "_model_module_version": "1.5.0",
            "_view_count": null,
            "_view_module_version": "1.5.0",
            "box_style": "",
            "layout": "IPY_MODEL_6c7cf2f15b3e45d6a15cee6e3bff0126",
            "_model_module": "@jupyter-widgets/controls",
            "children": [
              "IPY_MODEL_a3556c9068d240698657adcc19a6f873",
              "IPY_MODEL_bd42f3b400be4d358d47308095850dac"
            ]
          }
        },
        "6c7cf2f15b3e45d6a15cee6e3bff0126": {
          "model_module": "@jupyter-widgets/base",
          "model_name": "LayoutModel",
          "state": {
            "_view_name": "LayoutView",
            "grid_template_rows": null,
            "right": null,
            "justify_content": null,
            "_view_module": "@jupyter-widgets/base",
            "overflow": null,
            "_model_module_version": "1.2.0",
            "_view_count": null,
            "flex_flow": null,
            "width": null,
            "min_width": null,
            "border": null,
            "align_items": null,
            "bottom": null,
            "_model_module": "@jupyter-widgets/base",
            "top": null,
            "grid_column": null,
            "overflow_y": null,
            "overflow_x": null,
            "grid_auto_flow": null,
            "grid_area": null,
            "grid_template_columns": null,
            "flex": null,
            "_model_name": "LayoutModel",
            "justify_items": null,
            "grid_row": null,
            "max_height": null,
            "align_content": null,
            "visibility": null,
            "align_self": null,
            "height": null,
            "min_height": null,
            "padding": null,
            "grid_auto_rows": null,
            "grid_gap": null,
            "max_width": null,
            "order": null,
            "_view_module_version": "1.2.0",
            "grid_template_areas": null,
            "object_position": null,
            "object_fit": null,
            "grid_auto_columns": null,
            "margin": null,
            "display": null,
            "left": null
          }
        },
        "a3556c9068d240698657adcc19a6f873": {
          "model_module": "@jupyter-widgets/controls",
          "model_name": "FloatProgressModel",
          "state": {
            "_view_name": "ProgressView",
            "style": "IPY_MODEL_46120615e42e4e7fb5b9db4a1c718d7b",
            "_dom_classes": [],
            "description": "  0%",
            "_model_name": "FloatProgressModel",
            "bar_style": "info",
            "max": 1,
            "_view_module": "@jupyter-widgets/controls",
            "_model_module_version": "1.5.0",
            "value": 0,
            "_view_count": null,
            "_view_module_version": "1.5.0",
            "orientation": "horizontal",
            "min": 0,
            "description_tooltip": null,
            "_model_module": "@jupyter-widgets/controls",
            "layout": "IPY_MODEL_d3ccc2831c354d56a2816eb62cf1e62b"
          }
        },
        "bd42f3b400be4d358d47308095850dac": {
          "model_module": "@jupyter-widgets/controls",
          "model_name": "HTMLModel",
          "state": {
            "_view_name": "HTMLView",
            "style": "IPY_MODEL_6b6a1debe07b404b8ddb36e472c7a7b1",
            "_dom_classes": [],
            "description": "",
            "_model_name": "HTMLModel",
            "placeholder": "​",
            "_view_module": "@jupyter-widgets/controls",
            "_model_module_version": "1.5.0",
            "value": " 0/5148 [00:00&lt;?, ?it/s]",
            "_view_count": null,
            "_view_module_version": "1.5.0",
            "description_tooltip": null,
            "_model_module": "@jupyter-widgets/controls",
            "layout": "IPY_MODEL_9603148b39cf4f2cb2d0d2489bdff62e"
          }
        },
        "46120615e42e4e7fb5b9db4a1c718d7b": {
          "model_module": "@jupyter-widgets/controls",
          "model_name": "ProgressStyleModel",
          "state": {
            "_view_name": "StyleView",
            "_model_name": "ProgressStyleModel",
            "description_width": "initial",
            "_view_module": "@jupyter-widgets/base",
            "_model_module_version": "1.5.0",
            "_view_count": null,
            "_view_module_version": "1.2.0",
            "bar_color": null,
            "_model_module": "@jupyter-widgets/controls"
          }
        },
        "d3ccc2831c354d56a2816eb62cf1e62b": {
          "model_module": "@jupyter-widgets/base",
          "model_name": "LayoutModel",
          "state": {
            "_view_name": "LayoutView",
            "grid_template_rows": null,
            "right": null,
            "justify_content": null,
            "_view_module": "@jupyter-widgets/base",
            "overflow": null,
            "_model_module_version": "1.2.0",
            "_view_count": null,
            "flex_flow": null,
            "width": null,
            "min_width": null,
            "border": null,
            "align_items": null,
            "bottom": null,
            "_model_module": "@jupyter-widgets/base",
            "top": null,
            "grid_column": null,
            "overflow_y": null,
            "overflow_x": null,
            "grid_auto_flow": null,
            "grid_area": null,
            "grid_template_columns": null,
            "flex": null,
            "_model_name": "LayoutModel",
            "justify_items": null,
            "grid_row": null,
            "max_height": null,
            "align_content": null,
            "visibility": null,
            "align_self": null,
            "height": null,
            "min_height": null,
            "padding": null,
            "grid_auto_rows": null,
            "grid_gap": null,
            "max_width": null,
            "order": null,
            "_view_module_version": "1.2.0",
            "grid_template_areas": null,
            "object_position": null,
            "object_fit": null,
            "grid_auto_columns": null,
            "margin": null,
            "display": null,
            "left": null
          }
        },
        "6b6a1debe07b404b8ddb36e472c7a7b1": {
          "model_module": "@jupyter-widgets/controls",
          "model_name": "DescriptionStyleModel",
          "state": {
            "_view_name": "StyleView",
            "_model_name": "DescriptionStyleModel",
            "description_width": "",
            "_view_module": "@jupyter-widgets/base",
            "_model_module_version": "1.5.0",
            "_view_count": null,
            "_view_module_version": "1.2.0",
            "_model_module": "@jupyter-widgets/controls"
          }
        },
        "9603148b39cf4f2cb2d0d2489bdff62e": {
          "model_module": "@jupyter-widgets/base",
          "model_name": "LayoutModel",
          "state": {
            "_view_name": "LayoutView",
            "grid_template_rows": null,
            "right": null,
            "justify_content": null,
            "_view_module": "@jupyter-widgets/base",
            "overflow": null,
            "_model_module_version": "1.2.0",
            "_view_count": null,
            "flex_flow": null,
            "width": null,
            "min_width": null,
            "border": null,
            "align_items": null,
            "bottom": null,
            "_model_module": "@jupyter-widgets/base",
            "top": null,
            "grid_column": null,
            "overflow_y": null,
            "overflow_x": null,
            "grid_auto_flow": null,
            "grid_area": null,
            "grid_template_columns": null,
            "flex": null,
            "_model_name": "LayoutModel",
            "justify_items": null,
            "grid_row": null,
            "max_height": null,
            "align_content": null,
            "visibility": null,
            "align_self": null,
            "height": null,
            "min_height": null,
            "padding": null,
            "grid_auto_rows": null,
            "grid_gap": null,
            "max_width": null,
            "order": null,
            "_view_module_version": "1.2.0",
            "grid_template_areas": null,
            "object_position": null,
            "object_fit": null,
            "grid_auto_columns": null,
            "margin": null,
            "display": null,
            "left": null
          }
        },
        "103ca71770c446e486539bc26698fdea": {
          "model_module": "@jupyter-widgets/controls",
          "model_name": "HBoxModel",
          "state": {
            "_view_name": "HBoxView",
            "_dom_classes": [],
            "_model_name": "HBoxModel",
            "_view_module": "@jupyter-widgets/controls",
            "_model_module_version": "1.5.0",
            "_view_count": null,
            "_view_module_version": "1.5.0",
            "box_style": "",
            "layout": "IPY_MODEL_a544da31883c491bb88f6f749a4f4ee7",
            "_model_module": "@jupyter-widgets/controls",
            "children": [
              "IPY_MODEL_54f67cec921d45eba486fcda02ea3e2e",
              "IPY_MODEL_2cf6f7900d064a219d185dbd4e1fa888"
            ]
          }
        },
        "a544da31883c491bb88f6f749a4f4ee7": {
          "model_module": "@jupyter-widgets/base",
          "model_name": "LayoutModel",
          "state": {
            "_view_name": "LayoutView",
            "grid_template_rows": null,
            "right": null,
            "justify_content": null,
            "_view_module": "@jupyter-widgets/base",
            "overflow": null,
            "_model_module_version": "1.2.0",
            "_view_count": null,
            "flex_flow": null,
            "width": null,
            "min_width": null,
            "border": null,
            "align_items": null,
            "bottom": null,
            "_model_module": "@jupyter-widgets/base",
            "top": null,
            "grid_column": null,
            "overflow_y": null,
            "overflow_x": null,
            "grid_auto_flow": null,
            "grid_area": null,
            "grid_template_columns": null,
            "flex": null,
            "_model_name": "LayoutModel",
            "justify_items": null,
            "grid_row": null,
            "max_height": null,
            "align_content": null,
            "visibility": null,
            "align_self": null,
            "height": null,
            "min_height": null,
            "padding": null,
            "grid_auto_rows": null,
            "grid_gap": null,
            "max_width": null,
            "order": null,
            "_view_module_version": "1.2.0",
            "grid_template_areas": null,
            "object_position": null,
            "object_fit": null,
            "grid_auto_columns": null,
            "margin": null,
            "display": null,
            "left": null
          }
        },
        "54f67cec921d45eba486fcda02ea3e2e": {
          "model_module": "@jupyter-widgets/controls",
          "model_name": "FloatProgressModel",
          "state": {
            "_view_name": "ProgressView",
            "style": "IPY_MODEL_b26f91a1c29b48f593cc6167c20e0e59",
            "_dom_classes": [],
            "description": "100%",
            "_model_name": "FloatProgressModel",
            "bar_style": "success",
            "max": 99,
            "_view_module": "@jupyter-widgets/controls",
            "_model_module_version": "1.5.0",
            "value": 99,
            "_view_count": null,
            "_view_module_version": "1.5.0",
            "orientation": "horizontal",
            "min": 0,
            "description_tooltip": null,
            "_model_module": "@jupyter-widgets/controls",
            "layout": "IPY_MODEL_8587be231a764f8f9e51c25012bedfdd"
          }
        },
        "2cf6f7900d064a219d185dbd4e1fa888": {
          "model_module": "@jupyter-widgets/controls",
          "model_name": "HTMLModel",
          "state": {
            "_view_name": "HTMLView",
            "style": "IPY_MODEL_1873e142272c4770be2777b042d3a855",
            "_dom_classes": [],
            "description": "",
            "_model_name": "HTMLModel",
            "placeholder": "​",
            "_view_module": "@jupyter-widgets/controls",
            "_model_module_version": "1.5.0",
            "value": " 99/99 [59:31&lt;00:00, 36.08s/it]",
            "_view_count": null,
            "_view_module_version": "1.5.0",
            "description_tooltip": null,
            "_model_module": "@jupyter-widgets/controls",
            "layout": "IPY_MODEL_a56dbb9779d04dab85a586a819df6eb9"
          }
        },
        "b26f91a1c29b48f593cc6167c20e0e59": {
          "model_module": "@jupyter-widgets/controls",
          "model_name": "ProgressStyleModel",
          "state": {
            "_view_name": "StyleView",
            "_model_name": "ProgressStyleModel",
            "description_width": "initial",
            "_view_module": "@jupyter-widgets/base",
            "_model_module_version": "1.5.0",
            "_view_count": null,
            "_view_module_version": "1.2.0",
            "bar_color": null,
            "_model_module": "@jupyter-widgets/controls"
          }
        },
        "8587be231a764f8f9e51c25012bedfdd": {
          "model_module": "@jupyter-widgets/base",
          "model_name": "LayoutModel",
          "state": {
            "_view_name": "LayoutView",
            "grid_template_rows": null,
            "right": null,
            "justify_content": null,
            "_view_module": "@jupyter-widgets/base",
            "overflow": null,
            "_model_module_version": "1.2.0",
            "_view_count": null,
            "flex_flow": null,
            "width": null,
            "min_width": null,
            "border": null,
            "align_items": null,
            "bottom": null,
            "_model_module": "@jupyter-widgets/base",
            "top": null,
            "grid_column": null,
            "overflow_y": null,
            "overflow_x": null,
            "grid_auto_flow": null,
            "grid_area": null,
            "grid_template_columns": null,
            "flex": null,
            "_model_name": "LayoutModel",
            "justify_items": null,
            "grid_row": null,
            "max_height": null,
            "align_content": null,
            "visibility": null,
            "align_self": null,
            "height": null,
            "min_height": null,
            "padding": null,
            "grid_auto_rows": null,
            "grid_gap": null,
            "max_width": null,
            "order": null,
            "_view_module_version": "1.2.0",
            "grid_template_areas": null,
            "object_position": null,
            "object_fit": null,
            "grid_auto_columns": null,
            "margin": null,
            "display": null,
            "left": null
          }
        },
        "1873e142272c4770be2777b042d3a855": {
          "model_module": "@jupyter-widgets/controls",
          "model_name": "DescriptionStyleModel",
          "state": {
            "_view_name": "StyleView",
            "_model_name": "DescriptionStyleModel",
            "description_width": "",
            "_view_module": "@jupyter-widgets/base",
            "_model_module_version": "1.5.0",
            "_view_count": null,
            "_view_module_version": "1.2.0",
            "_model_module": "@jupyter-widgets/controls"
          }
        },
        "a56dbb9779d04dab85a586a819df6eb9": {
          "model_module": "@jupyter-widgets/base",
          "model_name": "LayoutModel",
          "state": {
            "_view_name": "LayoutView",
            "grid_template_rows": null,
            "right": null,
            "justify_content": null,
            "_view_module": "@jupyter-widgets/base",
            "overflow": null,
            "_model_module_version": "1.2.0",
            "_view_count": null,
            "flex_flow": null,
            "width": null,
            "min_width": null,
            "border": null,
            "align_items": null,
            "bottom": null,
            "_model_module": "@jupyter-widgets/base",
            "top": null,
            "grid_column": null,
            "overflow_y": null,
            "overflow_x": null,
            "grid_auto_flow": null,
            "grid_area": null,
            "grid_template_columns": null,
            "flex": null,
            "_model_name": "LayoutModel",
            "justify_items": null,
            "grid_row": null,
            "max_height": null,
            "align_content": null,
            "visibility": null,
            "align_self": null,
            "height": null,
            "min_height": null,
            "padding": null,
            "grid_auto_rows": null,
            "grid_gap": null,
            "max_width": null,
            "order": null,
            "_view_module_version": "1.2.0",
            "grid_template_areas": null,
            "object_position": null,
            "object_fit": null,
            "grid_auto_columns": null,
            "margin": null,
            "display": null,
            "left": null
          }
        },
        "ba62b6fedb9a45b78ac4a53136490a3d": {
          "model_module": "@jupyter-widgets/controls",
          "model_name": "HBoxModel",
          "state": {
            "_view_name": "HBoxView",
            "_dom_classes": [],
            "_model_name": "HBoxModel",
            "_view_module": "@jupyter-widgets/controls",
            "_model_module_version": "1.5.0",
            "_view_count": null,
            "_view_module_version": "1.5.0",
            "box_style": "",
            "layout": "IPY_MODEL_a5ce52314c294c82a729ed454ad7e124",
            "_model_module": "@jupyter-widgets/controls",
            "children": [
              "IPY_MODEL_1c91fe6193a743669b2e411ee6b23a07",
              "IPY_MODEL_9206055cf53d40a5bce0c16b2d908211"
            ]
          }
        },
        "a5ce52314c294c82a729ed454ad7e124": {
          "model_module": "@jupyter-widgets/base",
          "model_name": "LayoutModel",
          "state": {
            "_view_name": "LayoutView",
            "grid_template_rows": null,
            "right": null,
            "justify_content": null,
            "_view_module": "@jupyter-widgets/base",
            "overflow": null,
            "_model_module_version": "1.2.0",
            "_view_count": null,
            "flex_flow": null,
            "width": null,
            "min_width": null,
            "border": null,
            "align_items": null,
            "bottom": null,
            "_model_module": "@jupyter-widgets/base",
            "top": null,
            "grid_column": null,
            "overflow_y": null,
            "overflow_x": null,
            "grid_auto_flow": null,
            "grid_area": null,
            "grid_template_columns": null,
            "flex": null,
            "_model_name": "LayoutModel",
            "justify_items": null,
            "grid_row": null,
            "max_height": null,
            "align_content": null,
            "visibility": null,
            "align_self": null,
            "height": null,
            "min_height": null,
            "padding": null,
            "grid_auto_rows": null,
            "grid_gap": null,
            "max_width": null,
            "order": null,
            "_view_module_version": "1.2.0",
            "grid_template_areas": null,
            "object_position": null,
            "object_fit": null,
            "grid_auto_columns": null,
            "margin": null,
            "display": null,
            "left": null
          }
        },
        "1c91fe6193a743669b2e411ee6b23a07": {
          "model_module": "@jupyter-widgets/controls",
          "model_name": "FloatProgressModel",
          "state": {
            "_view_name": "ProgressView",
            "style": "IPY_MODEL_1b5936d894ff4ba283a67050fb868612",
            "_dom_classes": [],
            "description": "100%",
            "_model_name": "FloatProgressModel",
            "bar_style": "success",
            "max": 49,
            "_view_module": "@jupyter-widgets/controls",
            "_model_module_version": "1.5.0",
            "value": 49,
            "_view_count": null,
            "_view_module_version": "1.5.0",
            "orientation": "horizontal",
            "min": 0,
            "description_tooltip": null,
            "_model_module": "@jupyter-widgets/controls",
            "layout": "IPY_MODEL_8ae4664c92dd4022ae678540edcba179"
          }
        },
        "9206055cf53d40a5bce0c16b2d908211": {
          "model_module": "@jupyter-widgets/controls",
          "model_name": "HTMLModel",
          "state": {
            "_view_name": "HTMLView",
            "style": "IPY_MODEL_b0b5843fa94b45d8bb1262e9fbafdebd",
            "_dom_classes": [],
            "description": "",
            "_model_name": "HTMLModel",
            "placeholder": "​",
            "_view_module": "@jupyter-widgets/controls",
            "_model_module_version": "1.5.0",
            "value": " 49/49 [16:35&lt;00:00, 20.33s/it]",
            "_view_count": null,
            "_view_module_version": "1.5.0",
            "description_tooltip": null,
            "_model_module": "@jupyter-widgets/controls",
            "layout": "IPY_MODEL_a8ba46d45c5c46988ef314ddba50458b"
          }
        },
        "1b5936d894ff4ba283a67050fb868612": {
          "model_module": "@jupyter-widgets/controls",
          "model_name": "ProgressStyleModel",
          "state": {
            "_view_name": "StyleView",
            "_model_name": "ProgressStyleModel",
            "description_width": "initial",
            "_view_module": "@jupyter-widgets/base",
            "_model_module_version": "1.5.0",
            "_view_count": null,
            "_view_module_version": "1.2.0",
            "bar_color": null,
            "_model_module": "@jupyter-widgets/controls"
          }
        },
        "8ae4664c92dd4022ae678540edcba179": {
          "model_module": "@jupyter-widgets/base",
          "model_name": "LayoutModel",
          "state": {
            "_view_name": "LayoutView",
            "grid_template_rows": null,
            "right": null,
            "justify_content": null,
            "_view_module": "@jupyter-widgets/base",
            "overflow": null,
            "_model_module_version": "1.2.0",
            "_view_count": null,
            "flex_flow": null,
            "width": null,
            "min_width": null,
            "border": null,
            "align_items": null,
            "bottom": null,
            "_model_module": "@jupyter-widgets/base",
            "top": null,
            "grid_column": null,
            "overflow_y": null,
            "overflow_x": null,
            "grid_auto_flow": null,
            "grid_area": null,
            "grid_template_columns": null,
            "flex": null,
            "_model_name": "LayoutModel",
            "justify_items": null,
            "grid_row": null,
            "max_height": null,
            "align_content": null,
            "visibility": null,
            "align_self": null,
            "height": null,
            "min_height": null,
            "padding": null,
            "grid_auto_rows": null,
            "grid_gap": null,
            "max_width": null,
            "order": null,
            "_view_module_version": "1.2.0",
            "grid_template_areas": null,
            "object_position": null,
            "object_fit": null,
            "grid_auto_columns": null,
            "margin": null,
            "display": null,
            "left": null
          }
        },
        "b0b5843fa94b45d8bb1262e9fbafdebd": {
          "model_module": "@jupyter-widgets/controls",
          "model_name": "DescriptionStyleModel",
          "state": {
            "_view_name": "StyleView",
            "_model_name": "DescriptionStyleModel",
            "description_width": "",
            "_view_module": "@jupyter-widgets/base",
            "_model_module_version": "1.5.0",
            "_view_count": null,
            "_view_module_version": "1.2.0",
            "_model_module": "@jupyter-widgets/controls"
          }
        },
        "a8ba46d45c5c46988ef314ddba50458b": {
          "model_module": "@jupyter-widgets/base",
          "model_name": "LayoutModel",
          "state": {
            "_view_name": "LayoutView",
            "grid_template_rows": null,
            "right": null,
            "justify_content": null,
            "_view_module": "@jupyter-widgets/base",
            "overflow": null,
            "_model_module_version": "1.2.0",
            "_view_count": null,
            "flex_flow": null,
            "width": null,
            "min_width": null,
            "border": null,
            "align_items": null,
            "bottom": null,
            "_model_module": "@jupyter-widgets/base",
            "top": null,
            "grid_column": null,
            "overflow_y": null,
            "overflow_x": null,
            "grid_auto_flow": null,
            "grid_area": null,
            "grid_template_columns": null,
            "flex": null,
            "_model_name": "LayoutModel",
            "justify_items": null,
            "grid_row": null,
            "max_height": null,
            "align_content": null,
            "visibility": null,
            "align_self": null,
            "height": null,
            "min_height": null,
            "padding": null,
            "grid_auto_rows": null,
            "grid_gap": null,
            "max_width": null,
            "order": null,
            "_view_module_version": "1.2.0",
            "grid_template_areas": null,
            "object_position": null,
            "object_fit": null,
            "grid_auto_columns": null,
            "margin": null,
            "display": null,
            "left": null
          }
        },
        "af9b4cc6b1d8496d9480ee009a7089f5": {
          "model_module": "@jupyter-widgets/controls",
          "model_name": "HBoxModel",
          "state": {
            "_view_name": "HBoxView",
            "_dom_classes": [],
            "_model_name": "HBoxModel",
            "_view_module": "@jupyter-widgets/controls",
            "_model_module_version": "1.5.0",
            "_view_count": null,
            "_view_module_version": "1.5.0",
            "box_style": "",
            "layout": "IPY_MODEL_5a2dfacc146c4ba6951164eb32c39824",
            "_model_module": "@jupyter-widgets/controls",
            "children": [
              "IPY_MODEL_d4928d172934402e935a086fbabe6af3",
              "IPY_MODEL_8cf1efbfde93429ea23a7f7139e84658"
            ]
          }
        },
        "5a2dfacc146c4ba6951164eb32c39824": {
          "model_module": "@jupyter-widgets/base",
          "model_name": "LayoutModel",
          "state": {
            "_view_name": "LayoutView",
            "grid_template_rows": null,
            "right": null,
            "justify_content": null,
            "_view_module": "@jupyter-widgets/base",
            "overflow": null,
            "_model_module_version": "1.2.0",
            "_view_count": null,
            "flex_flow": null,
            "width": null,
            "min_width": null,
            "border": null,
            "align_items": null,
            "bottom": null,
            "_model_module": "@jupyter-widgets/base",
            "top": null,
            "grid_column": null,
            "overflow_y": null,
            "overflow_x": null,
            "grid_auto_flow": null,
            "grid_area": null,
            "grid_template_columns": null,
            "flex": null,
            "_model_name": "LayoutModel",
            "justify_items": null,
            "grid_row": null,
            "max_height": null,
            "align_content": null,
            "visibility": null,
            "align_self": null,
            "height": null,
            "min_height": null,
            "padding": null,
            "grid_auto_rows": null,
            "grid_gap": null,
            "max_width": null,
            "order": null,
            "_view_module_version": "1.2.0",
            "grid_template_areas": null,
            "object_position": null,
            "object_fit": null,
            "grid_auto_columns": null,
            "margin": null,
            "display": null,
            "left": null
          }
        },
        "d4928d172934402e935a086fbabe6af3": {
          "model_module": "@jupyter-widgets/controls",
          "model_name": "FloatProgressModel",
          "state": {
            "_view_name": "ProgressView",
            "style": "IPY_MODEL_22300a779ae646e29498267c00dba1d4",
            "_dom_classes": [],
            "description": "100%",
            "_model_name": "FloatProgressModel",
            "bar_style": "success",
            "max": 49,
            "_view_module": "@jupyter-widgets/controls",
            "_model_module_version": "1.5.0",
            "value": 49,
            "_view_count": null,
            "_view_module_version": "1.5.0",
            "orientation": "horizontal",
            "min": 0,
            "description_tooltip": null,
            "_model_module": "@jupyter-widgets/controls",
            "layout": "IPY_MODEL_9e076f14275c416cb14ec9599ea74572"
          }
        },
        "8cf1efbfde93429ea23a7f7139e84658": {
          "model_module": "@jupyter-widgets/controls",
          "model_name": "HTMLModel",
          "state": {
            "_view_name": "HTMLView",
            "style": "IPY_MODEL_1a32f0e5708e4b9da2c9f47ceb471edf",
            "_dom_classes": [],
            "description": "",
            "_model_name": "HTMLModel",
            "placeholder": "​",
            "_view_module": "@jupyter-widgets/controls",
            "_model_module_version": "1.5.0",
            "value": " 49/49 [08:33&lt;00:00, 10.47s/it]",
            "_view_count": null,
            "_view_module_version": "1.5.0",
            "description_tooltip": null,
            "_model_module": "@jupyter-widgets/controls",
            "layout": "IPY_MODEL_2b8dc30c5e9b4b3187b4607e5fd8c091"
          }
        },
        "22300a779ae646e29498267c00dba1d4": {
          "model_module": "@jupyter-widgets/controls",
          "model_name": "ProgressStyleModel",
          "state": {
            "_view_name": "StyleView",
            "_model_name": "ProgressStyleModel",
            "description_width": "initial",
            "_view_module": "@jupyter-widgets/base",
            "_model_module_version": "1.5.0",
            "_view_count": null,
            "_view_module_version": "1.2.0",
            "bar_color": null,
            "_model_module": "@jupyter-widgets/controls"
          }
        },
        "9e076f14275c416cb14ec9599ea74572": {
          "model_module": "@jupyter-widgets/base",
          "model_name": "LayoutModel",
          "state": {
            "_view_name": "LayoutView",
            "grid_template_rows": null,
            "right": null,
            "justify_content": null,
            "_view_module": "@jupyter-widgets/base",
            "overflow": null,
            "_model_module_version": "1.2.0",
            "_view_count": null,
            "flex_flow": null,
            "width": null,
            "min_width": null,
            "border": null,
            "align_items": null,
            "bottom": null,
            "_model_module": "@jupyter-widgets/base",
            "top": null,
            "grid_column": null,
            "overflow_y": null,
            "overflow_x": null,
            "grid_auto_flow": null,
            "grid_area": null,
            "grid_template_columns": null,
            "flex": null,
            "_model_name": "LayoutModel",
            "justify_items": null,
            "grid_row": null,
            "max_height": null,
            "align_content": null,
            "visibility": null,
            "align_self": null,
            "height": null,
            "min_height": null,
            "padding": null,
            "grid_auto_rows": null,
            "grid_gap": null,
            "max_width": null,
            "order": null,
            "_view_module_version": "1.2.0",
            "grid_template_areas": null,
            "object_position": null,
            "object_fit": null,
            "grid_auto_columns": null,
            "margin": null,
            "display": null,
            "left": null
          }
        },
        "1a32f0e5708e4b9da2c9f47ceb471edf": {
          "model_module": "@jupyter-widgets/controls",
          "model_name": "DescriptionStyleModel",
          "state": {
            "_view_name": "StyleView",
            "_model_name": "DescriptionStyleModel",
            "description_width": "",
            "_view_module": "@jupyter-widgets/base",
            "_model_module_version": "1.5.0",
            "_view_count": null,
            "_view_module_version": "1.2.0",
            "_model_module": "@jupyter-widgets/controls"
          }
        },
        "2b8dc30c5e9b4b3187b4607e5fd8c091": {
          "model_module": "@jupyter-widgets/base",
          "model_name": "LayoutModel",
          "state": {
            "_view_name": "LayoutView",
            "grid_template_rows": null,
            "right": null,
            "justify_content": null,
            "_view_module": "@jupyter-widgets/base",
            "overflow": null,
            "_model_module_version": "1.2.0",
            "_view_count": null,
            "flex_flow": null,
            "width": null,
            "min_width": null,
            "border": null,
            "align_items": null,
            "bottom": null,
            "_model_module": "@jupyter-widgets/base",
            "top": null,
            "grid_column": null,
            "overflow_y": null,
            "overflow_x": null,
            "grid_auto_flow": null,
            "grid_area": null,
            "grid_template_columns": null,
            "flex": null,
            "_model_name": "LayoutModel",
            "justify_items": null,
            "grid_row": null,
            "max_height": null,
            "align_content": null,
            "visibility": null,
            "align_self": null,
            "height": null,
            "min_height": null,
            "padding": null,
            "grid_auto_rows": null,
            "grid_gap": null,
            "max_width": null,
            "order": null,
            "_view_module_version": "1.2.0",
            "grid_template_areas": null,
            "object_position": null,
            "object_fit": null,
            "grid_auto_columns": null,
            "margin": null,
            "display": null,
            "left": null
          }
        },
        "4e172dc80db642828e8ed1342e9f2d0c": {
          "model_module": "@jupyter-widgets/controls",
          "model_name": "HBoxModel",
          "state": {
            "_view_name": "HBoxView",
            "_dom_classes": [],
            "_model_name": "HBoxModel",
            "_view_module": "@jupyter-widgets/controls",
            "_model_module_version": "1.5.0",
            "_view_count": null,
            "_view_module_version": "1.5.0",
            "box_style": "",
            "layout": "IPY_MODEL_657dc6c935b14d1e99a228f1edf762c7",
            "_model_module": "@jupyter-widgets/controls",
            "children": [
              "IPY_MODEL_bf1f0ed774c94abd87e8b99c63094906",
              "IPY_MODEL_6a65dcbad325417087f5b3098e0292c4"
            ]
          }
        },
        "657dc6c935b14d1e99a228f1edf762c7": {
          "model_module": "@jupyter-widgets/base",
          "model_name": "LayoutModel",
          "state": {
            "_view_name": "LayoutView",
            "grid_template_rows": null,
            "right": null,
            "justify_content": null,
            "_view_module": "@jupyter-widgets/base",
            "overflow": null,
            "_model_module_version": "1.2.0",
            "_view_count": null,
            "flex_flow": null,
            "width": null,
            "min_width": null,
            "border": null,
            "align_items": null,
            "bottom": null,
            "_model_module": "@jupyter-widgets/base",
            "top": null,
            "grid_column": null,
            "overflow_y": null,
            "overflow_x": null,
            "grid_auto_flow": null,
            "grid_area": null,
            "grid_template_columns": null,
            "flex": null,
            "_model_name": "LayoutModel",
            "justify_items": null,
            "grid_row": null,
            "max_height": null,
            "align_content": null,
            "visibility": null,
            "align_self": null,
            "height": null,
            "min_height": null,
            "padding": null,
            "grid_auto_rows": null,
            "grid_gap": null,
            "max_width": null,
            "order": null,
            "_view_module_version": "1.2.0",
            "grid_template_areas": null,
            "object_position": null,
            "object_fit": null,
            "grid_auto_columns": null,
            "margin": null,
            "display": null,
            "left": null
          }
        },
        "bf1f0ed774c94abd87e8b99c63094906": {
          "model_module": "@jupyter-widgets/controls",
          "model_name": "FloatProgressModel",
          "state": {
            "_view_name": "ProgressView",
            "style": "IPY_MODEL_292c59582200467b92dda355a6779b7c",
            "_dom_classes": [],
            "description": "100%",
            "_model_name": "FloatProgressModel",
            "bar_style": "success",
            "max": 49,
            "_view_module": "@jupyter-widgets/controls",
            "_model_module_version": "1.5.0",
            "value": 49,
            "_view_count": null,
            "_view_module_version": "1.5.0",
            "orientation": "horizontal",
            "min": 0,
            "description_tooltip": null,
            "_model_module": "@jupyter-widgets/controls",
            "layout": "IPY_MODEL_ffd34e5e9ab64b42a18e1ad18048bee2"
          }
        },
        "6a65dcbad325417087f5b3098e0292c4": {
          "model_module": "@jupyter-widgets/controls",
          "model_name": "HTMLModel",
          "state": {
            "_view_name": "HTMLView",
            "style": "IPY_MODEL_75be6719c78a404a8301d2ce961877ef",
            "_dom_classes": [],
            "description": "",
            "_model_name": "HTMLModel",
            "placeholder": "​",
            "_view_module": "@jupyter-widgets/controls",
            "_model_module_version": "1.5.0",
            "value": " 49/49 [26:03&lt;00:00, 31.90s/it]",
            "_view_count": null,
            "_view_module_version": "1.5.0",
            "description_tooltip": null,
            "_model_module": "@jupyter-widgets/controls",
            "layout": "IPY_MODEL_cfb09672e7ad4dd08803fa84e831e6a4"
          }
        },
        "292c59582200467b92dda355a6779b7c": {
          "model_module": "@jupyter-widgets/controls",
          "model_name": "ProgressStyleModel",
          "state": {
            "_view_name": "StyleView",
            "_model_name": "ProgressStyleModel",
            "description_width": "initial",
            "_view_module": "@jupyter-widgets/base",
            "_model_module_version": "1.5.0",
            "_view_count": null,
            "_view_module_version": "1.2.0",
            "bar_color": null,
            "_model_module": "@jupyter-widgets/controls"
          }
        },
        "ffd34e5e9ab64b42a18e1ad18048bee2": {
          "model_module": "@jupyter-widgets/base",
          "model_name": "LayoutModel",
          "state": {
            "_view_name": "LayoutView",
            "grid_template_rows": null,
            "right": null,
            "justify_content": null,
            "_view_module": "@jupyter-widgets/base",
            "overflow": null,
            "_model_module_version": "1.2.0",
            "_view_count": null,
            "flex_flow": null,
            "width": null,
            "min_width": null,
            "border": null,
            "align_items": null,
            "bottom": null,
            "_model_module": "@jupyter-widgets/base",
            "top": null,
            "grid_column": null,
            "overflow_y": null,
            "overflow_x": null,
            "grid_auto_flow": null,
            "grid_area": null,
            "grid_template_columns": null,
            "flex": null,
            "_model_name": "LayoutModel",
            "justify_items": null,
            "grid_row": null,
            "max_height": null,
            "align_content": null,
            "visibility": null,
            "align_self": null,
            "height": null,
            "min_height": null,
            "padding": null,
            "grid_auto_rows": null,
            "grid_gap": null,
            "max_width": null,
            "order": null,
            "_view_module_version": "1.2.0",
            "grid_template_areas": null,
            "object_position": null,
            "object_fit": null,
            "grid_auto_columns": null,
            "margin": null,
            "display": null,
            "left": null
          }
        },
        "75be6719c78a404a8301d2ce961877ef": {
          "model_module": "@jupyter-widgets/controls",
          "model_name": "DescriptionStyleModel",
          "state": {
            "_view_name": "StyleView",
            "_model_name": "DescriptionStyleModel",
            "description_width": "",
            "_view_module": "@jupyter-widgets/base",
            "_model_module_version": "1.5.0",
            "_view_count": null,
            "_view_module_version": "1.2.0",
            "_model_module": "@jupyter-widgets/controls"
          }
        },
        "cfb09672e7ad4dd08803fa84e831e6a4": {
          "model_module": "@jupyter-widgets/base",
          "model_name": "LayoutModel",
          "state": {
            "_view_name": "LayoutView",
            "grid_template_rows": null,
            "right": null,
            "justify_content": null,
            "_view_module": "@jupyter-widgets/base",
            "overflow": null,
            "_model_module_version": "1.2.0",
            "_view_count": null,
            "flex_flow": null,
            "width": null,
            "min_width": null,
            "border": null,
            "align_items": null,
            "bottom": null,
            "_model_module": "@jupyter-widgets/base",
            "top": null,
            "grid_column": null,
            "overflow_y": null,
            "overflow_x": null,
            "grid_auto_flow": null,
            "grid_area": null,
            "grid_template_columns": null,
            "flex": null,
            "_model_name": "LayoutModel",
            "justify_items": null,
            "grid_row": null,
            "max_height": null,
            "align_content": null,
            "visibility": null,
            "align_self": null,
            "height": null,
            "min_height": null,
            "padding": null,
            "grid_auto_rows": null,
            "grid_gap": null,
            "max_width": null,
            "order": null,
            "_view_module_version": "1.2.0",
            "grid_template_areas": null,
            "object_position": null,
            "object_fit": null,
            "grid_auto_columns": null,
            "margin": null,
            "display": null,
            "left": null
          }
        },
        "411b8107e1b64c21b3899129253fb528": {
          "model_module": "@jupyter-widgets/controls",
          "model_name": "HBoxModel",
          "state": {
            "_view_name": "HBoxView",
            "_dom_classes": [],
            "_model_name": "HBoxModel",
            "_view_module": "@jupyter-widgets/controls",
            "_model_module_version": "1.5.0",
            "_view_count": null,
            "_view_module_version": "1.5.0",
            "box_style": "",
            "layout": "IPY_MODEL_c7e870d80e6543be8f096127c6746dee",
            "_model_module": "@jupyter-widgets/controls",
            "children": [
              "IPY_MODEL_d2fc8d47a828407badb5275a84a27ef6",
              "IPY_MODEL_fc05a5aa6e924b99b25f6c53d24cb12d"
            ]
          }
        },
        "c7e870d80e6543be8f096127c6746dee": {
          "model_module": "@jupyter-widgets/base",
          "model_name": "LayoutModel",
          "state": {
            "_view_name": "LayoutView",
            "grid_template_rows": null,
            "right": null,
            "justify_content": null,
            "_view_module": "@jupyter-widgets/base",
            "overflow": null,
            "_model_module_version": "1.2.0",
            "_view_count": null,
            "flex_flow": null,
            "width": null,
            "min_width": null,
            "border": null,
            "align_items": null,
            "bottom": null,
            "_model_module": "@jupyter-widgets/base",
            "top": null,
            "grid_column": null,
            "overflow_y": null,
            "overflow_x": null,
            "grid_auto_flow": null,
            "grid_area": null,
            "grid_template_columns": null,
            "flex": null,
            "_model_name": "LayoutModel",
            "justify_items": null,
            "grid_row": null,
            "max_height": null,
            "align_content": null,
            "visibility": null,
            "align_self": null,
            "height": null,
            "min_height": null,
            "padding": null,
            "grid_auto_rows": null,
            "grid_gap": null,
            "max_width": null,
            "order": null,
            "_view_module_version": "1.2.0",
            "grid_template_areas": null,
            "object_position": null,
            "object_fit": null,
            "grid_auto_columns": null,
            "margin": null,
            "display": null,
            "left": null
          }
        },
        "d2fc8d47a828407badb5275a84a27ef6": {
          "model_module": "@jupyter-widgets/controls",
          "model_name": "FloatProgressModel",
          "state": {
            "_view_name": "ProgressView",
            "style": "IPY_MODEL_c77cb23cf396447a9a2fea6a7d650a48",
            "_dom_classes": [],
            "description": "100%",
            "_model_name": "FloatProgressModel",
            "bar_style": "success",
            "max": 49,
            "_view_module": "@jupyter-widgets/controls",
            "_model_module_version": "1.5.0",
            "value": 49,
            "_view_count": null,
            "_view_module_version": "1.5.0",
            "orientation": "horizontal",
            "min": 0,
            "description_tooltip": null,
            "_model_module": "@jupyter-widgets/controls",
            "layout": "IPY_MODEL_f44287b6cec344d9b4f39ca2f7eb5a61"
          }
        },
        "fc05a5aa6e924b99b25f6c53d24cb12d": {
          "model_module": "@jupyter-widgets/controls",
          "model_name": "HTMLModel",
          "state": {
            "_view_name": "HTMLView",
            "style": "IPY_MODEL_f9cc52ec48c04a6292c27128a3f13634",
            "_dom_classes": [],
            "description": "",
            "_model_name": "HTMLModel",
            "placeholder": "​",
            "_view_module": "@jupyter-widgets/controls",
            "_model_module_version": "1.5.0",
            "value": " 49/49 [13:07&lt;00:00, 16.08s/it]",
            "_view_count": null,
            "_view_module_version": "1.5.0",
            "description_tooltip": null,
            "_model_module": "@jupyter-widgets/controls",
            "layout": "IPY_MODEL_886522c55b944e6cbe92f4d102981d40"
          }
        },
        "c77cb23cf396447a9a2fea6a7d650a48": {
          "model_module": "@jupyter-widgets/controls",
          "model_name": "ProgressStyleModel",
          "state": {
            "_view_name": "StyleView",
            "_model_name": "ProgressStyleModel",
            "description_width": "initial",
            "_view_module": "@jupyter-widgets/base",
            "_model_module_version": "1.5.0",
            "_view_count": null,
            "_view_module_version": "1.2.0",
            "bar_color": null,
            "_model_module": "@jupyter-widgets/controls"
          }
        },
        "f44287b6cec344d9b4f39ca2f7eb5a61": {
          "model_module": "@jupyter-widgets/base",
          "model_name": "LayoutModel",
          "state": {
            "_view_name": "LayoutView",
            "grid_template_rows": null,
            "right": null,
            "justify_content": null,
            "_view_module": "@jupyter-widgets/base",
            "overflow": null,
            "_model_module_version": "1.2.0",
            "_view_count": null,
            "flex_flow": null,
            "width": null,
            "min_width": null,
            "border": null,
            "align_items": null,
            "bottom": null,
            "_model_module": "@jupyter-widgets/base",
            "top": null,
            "grid_column": null,
            "overflow_y": null,
            "overflow_x": null,
            "grid_auto_flow": null,
            "grid_area": null,
            "grid_template_columns": null,
            "flex": null,
            "_model_name": "LayoutModel",
            "justify_items": null,
            "grid_row": null,
            "max_height": null,
            "align_content": null,
            "visibility": null,
            "align_self": null,
            "height": null,
            "min_height": null,
            "padding": null,
            "grid_auto_rows": null,
            "grid_gap": null,
            "max_width": null,
            "order": null,
            "_view_module_version": "1.2.0",
            "grid_template_areas": null,
            "object_position": null,
            "object_fit": null,
            "grid_auto_columns": null,
            "margin": null,
            "display": null,
            "left": null
          }
        },
        "f9cc52ec48c04a6292c27128a3f13634": {
          "model_module": "@jupyter-widgets/controls",
          "model_name": "DescriptionStyleModel",
          "state": {
            "_view_name": "StyleView",
            "_model_name": "DescriptionStyleModel",
            "description_width": "",
            "_view_module": "@jupyter-widgets/base",
            "_model_module_version": "1.5.0",
            "_view_count": null,
            "_view_module_version": "1.2.0",
            "_model_module": "@jupyter-widgets/controls"
          }
        },
        "886522c55b944e6cbe92f4d102981d40": {
          "model_module": "@jupyter-widgets/base",
          "model_name": "LayoutModel",
          "state": {
            "_view_name": "LayoutView",
            "grid_template_rows": null,
            "right": null,
            "justify_content": null,
            "_view_module": "@jupyter-widgets/base",
            "overflow": null,
            "_model_module_version": "1.2.0",
            "_view_count": null,
            "flex_flow": null,
            "width": null,
            "min_width": null,
            "border": null,
            "align_items": null,
            "bottom": null,
            "_model_module": "@jupyter-widgets/base",
            "top": null,
            "grid_column": null,
            "overflow_y": null,
            "overflow_x": null,
            "grid_auto_flow": null,
            "grid_area": null,
            "grid_template_columns": null,
            "flex": null,
            "_model_name": "LayoutModel",
            "justify_items": null,
            "grid_row": null,
            "max_height": null,
            "align_content": null,
            "visibility": null,
            "align_self": null,
            "height": null,
            "min_height": null,
            "padding": null,
            "grid_auto_rows": null,
            "grid_gap": null,
            "max_width": null,
            "order": null,
            "_view_module_version": "1.2.0",
            "grid_template_areas": null,
            "object_position": null,
            "object_fit": null,
            "grid_auto_columns": null,
            "margin": null,
            "display": null,
            "left": null
          }
        },
        "1243bbfab27d4619b95369f750c660b1": {
          "model_module": "@jupyter-widgets/controls",
          "model_name": "HBoxModel",
          "state": {
            "_view_name": "HBoxView",
            "_dom_classes": [],
            "_model_name": "HBoxModel",
            "_view_module": "@jupyter-widgets/controls",
            "_model_module_version": "1.5.0",
            "_view_count": null,
            "_view_module_version": "1.5.0",
            "box_style": "",
            "layout": "IPY_MODEL_04c4e643a1e542c082d6e00272645329",
            "_model_module": "@jupyter-widgets/controls",
            "children": [
              "IPY_MODEL_f607e0c4292b4439b798284d41301e53",
              "IPY_MODEL_66a61c95debb4734a20dd14a3114bb91"
            ]
          }
        },
        "04c4e643a1e542c082d6e00272645329": {
          "model_module": "@jupyter-widgets/base",
          "model_name": "LayoutModel",
          "state": {
            "_view_name": "LayoutView",
            "grid_template_rows": null,
            "right": null,
            "justify_content": null,
            "_view_module": "@jupyter-widgets/base",
            "overflow": null,
            "_model_module_version": "1.2.0",
            "_view_count": null,
            "flex_flow": null,
            "width": null,
            "min_width": null,
            "border": null,
            "align_items": null,
            "bottom": null,
            "_model_module": "@jupyter-widgets/base",
            "top": null,
            "grid_column": null,
            "overflow_y": null,
            "overflow_x": null,
            "grid_auto_flow": null,
            "grid_area": null,
            "grid_template_columns": null,
            "flex": null,
            "_model_name": "LayoutModel",
            "justify_items": null,
            "grid_row": null,
            "max_height": null,
            "align_content": null,
            "visibility": null,
            "align_self": null,
            "height": null,
            "min_height": null,
            "padding": null,
            "grid_auto_rows": null,
            "grid_gap": null,
            "max_width": null,
            "order": null,
            "_view_module_version": "1.2.0",
            "grid_template_areas": null,
            "object_position": null,
            "object_fit": null,
            "grid_auto_columns": null,
            "margin": null,
            "display": null,
            "left": null
          }
        },
        "f607e0c4292b4439b798284d41301e53": {
          "model_module": "@jupyter-widgets/controls",
          "model_name": "FloatProgressModel",
          "state": {
            "_view_name": "ProgressView",
            "style": "IPY_MODEL_eaf245026742476d9bd66e65989f6926",
            "_dom_classes": [],
            "description": "100%",
            "_model_name": "FloatProgressModel",
            "bar_style": "success",
            "max": 20,
            "_view_module": "@jupyter-widgets/controls",
            "_model_module_version": "1.5.0",
            "value": 20,
            "_view_count": null,
            "_view_module_version": "1.5.0",
            "orientation": "horizontal",
            "min": 0,
            "description_tooltip": null,
            "_model_module": "@jupyter-widgets/controls",
            "layout": "IPY_MODEL_fd38de6f20db4c39988df398eee02aa0"
          }
        },
        "66a61c95debb4734a20dd14a3114bb91": {
          "model_module": "@jupyter-widgets/controls",
          "model_name": "HTMLModel",
          "state": {
            "_view_name": "HTMLView",
            "style": "IPY_MODEL_8b94c40f19a641fda331ba9b61939a34",
            "_dom_classes": [],
            "description": "",
            "_model_name": "HTMLModel",
            "placeholder": "​",
            "_view_module": "@jupyter-widgets/controls",
            "_model_module_version": "1.5.0",
            "value": " 20/20 [1:02:35&lt;00:00, 187.79s/it]",
            "_view_count": null,
            "_view_module_version": "1.5.0",
            "description_tooltip": null,
            "_model_module": "@jupyter-widgets/controls",
            "layout": "IPY_MODEL_91ac8998aa8840dda18e3be6660f7812"
          }
        },
        "eaf245026742476d9bd66e65989f6926": {
          "model_module": "@jupyter-widgets/controls",
          "model_name": "ProgressStyleModel",
          "state": {
            "_view_name": "StyleView",
            "_model_name": "ProgressStyleModel",
            "description_width": "initial",
            "_view_module": "@jupyter-widgets/base",
            "_model_module_version": "1.5.0",
            "_view_count": null,
            "_view_module_version": "1.2.0",
            "bar_color": null,
            "_model_module": "@jupyter-widgets/controls"
          }
        },
        "fd38de6f20db4c39988df398eee02aa0": {
          "model_module": "@jupyter-widgets/base",
          "model_name": "LayoutModel",
          "state": {
            "_view_name": "LayoutView",
            "grid_template_rows": null,
            "right": null,
            "justify_content": null,
            "_view_module": "@jupyter-widgets/base",
            "overflow": null,
            "_model_module_version": "1.2.0",
            "_view_count": null,
            "flex_flow": null,
            "width": null,
            "min_width": null,
            "border": null,
            "align_items": null,
            "bottom": null,
            "_model_module": "@jupyter-widgets/base",
            "top": null,
            "grid_column": null,
            "overflow_y": null,
            "overflow_x": null,
            "grid_auto_flow": null,
            "grid_area": null,
            "grid_template_columns": null,
            "flex": null,
            "_model_name": "LayoutModel",
            "justify_items": null,
            "grid_row": null,
            "max_height": null,
            "align_content": null,
            "visibility": null,
            "align_self": null,
            "height": null,
            "min_height": null,
            "padding": null,
            "grid_auto_rows": null,
            "grid_gap": null,
            "max_width": null,
            "order": null,
            "_view_module_version": "1.2.0",
            "grid_template_areas": null,
            "object_position": null,
            "object_fit": null,
            "grid_auto_columns": null,
            "margin": null,
            "display": null,
            "left": null
          }
        },
        "8b94c40f19a641fda331ba9b61939a34": {
          "model_module": "@jupyter-widgets/controls",
          "model_name": "DescriptionStyleModel",
          "state": {
            "_view_name": "StyleView",
            "_model_name": "DescriptionStyleModel",
            "description_width": "",
            "_view_module": "@jupyter-widgets/base",
            "_model_module_version": "1.5.0",
            "_view_count": null,
            "_view_module_version": "1.2.0",
            "_model_module": "@jupyter-widgets/controls"
          }
        },
        "91ac8998aa8840dda18e3be6660f7812": {
          "model_module": "@jupyter-widgets/base",
          "model_name": "LayoutModel",
          "state": {
            "_view_name": "LayoutView",
            "grid_template_rows": null,
            "right": null,
            "justify_content": null,
            "_view_module": "@jupyter-widgets/base",
            "overflow": null,
            "_model_module_version": "1.2.0",
            "_view_count": null,
            "flex_flow": null,
            "width": null,
            "min_width": null,
            "border": null,
            "align_items": null,
            "bottom": null,
            "_model_module": "@jupyter-widgets/base",
            "top": null,
            "grid_column": null,
            "overflow_y": null,
            "overflow_x": null,
            "grid_auto_flow": null,
            "grid_area": null,
            "grid_template_columns": null,
            "flex": null,
            "_model_name": "LayoutModel",
            "justify_items": null,
            "grid_row": null,
            "max_height": null,
            "align_content": null,
            "visibility": null,
            "align_self": null,
            "height": null,
            "min_height": null,
            "padding": null,
            "grid_auto_rows": null,
            "grid_gap": null,
            "max_width": null,
            "order": null,
            "_view_module_version": "1.2.0",
            "grid_template_areas": null,
            "object_position": null,
            "object_fit": null,
            "grid_auto_columns": null,
            "margin": null,
            "display": null,
            "left": null
          }
        },
        "d96c20b253aa48d9b83addb2e1f24036": {
          "model_module": "@jupyter-widgets/controls",
          "model_name": "HBoxModel",
          "state": {
            "_view_name": "HBoxView",
            "_dom_classes": [],
            "_model_name": "HBoxModel",
            "_view_module": "@jupyter-widgets/controls",
            "_model_module_version": "1.5.0",
            "_view_count": null,
            "_view_module_version": "1.5.0",
            "box_style": "",
            "layout": "IPY_MODEL_14008f8336ea427395f6d6b9406d17e5",
            "_model_module": "@jupyter-widgets/controls",
            "children": [
              "IPY_MODEL_50027eb74c4744f885551e4575914a94",
              "IPY_MODEL_81659449903d48d59b40a48ff47b4853"
            ]
          }
        },
        "14008f8336ea427395f6d6b9406d17e5": {
          "model_module": "@jupyter-widgets/base",
          "model_name": "LayoutModel",
          "state": {
            "_view_name": "LayoutView",
            "grid_template_rows": null,
            "right": null,
            "justify_content": null,
            "_view_module": "@jupyter-widgets/base",
            "overflow": null,
            "_model_module_version": "1.2.0",
            "_view_count": null,
            "flex_flow": null,
            "width": null,
            "min_width": null,
            "border": null,
            "align_items": null,
            "bottom": null,
            "_model_module": "@jupyter-widgets/base",
            "top": null,
            "grid_column": null,
            "overflow_y": null,
            "overflow_x": null,
            "grid_auto_flow": null,
            "grid_area": null,
            "grid_template_columns": null,
            "flex": null,
            "_model_name": "LayoutModel",
            "justify_items": null,
            "grid_row": null,
            "max_height": null,
            "align_content": null,
            "visibility": null,
            "align_self": null,
            "height": null,
            "min_height": null,
            "padding": null,
            "grid_auto_rows": null,
            "grid_gap": null,
            "max_width": null,
            "order": null,
            "_view_module_version": "1.2.0",
            "grid_template_areas": null,
            "object_position": null,
            "object_fit": null,
            "grid_auto_columns": null,
            "margin": null,
            "display": null,
            "left": null
          }
        },
        "50027eb74c4744f885551e4575914a94": {
          "model_module": "@jupyter-widgets/controls",
          "model_name": "FloatProgressModel",
          "state": {
            "_view_name": "ProgressView",
            "style": "IPY_MODEL_3da640abeec44dd18c561d461049c511",
            "_dom_classes": [],
            "description": "100%",
            "_model_name": "FloatProgressModel",
            "bar_style": "success",
            "max": 20,
            "_view_module": "@jupyter-widgets/controls",
            "_model_module_version": "1.5.0",
            "value": 20,
            "_view_count": null,
            "_view_module_version": "1.5.0",
            "orientation": "horizontal",
            "min": 0,
            "description_tooltip": null,
            "_model_module": "@jupyter-widgets/controls",
            "layout": "IPY_MODEL_782ab2a22e9c4583ad07c26d3ee8f7b4"
          }
        },
        "81659449903d48d59b40a48ff47b4853": {
          "model_module": "@jupyter-widgets/controls",
          "model_name": "HTMLModel",
          "state": {
            "_view_name": "HTMLView",
            "style": "IPY_MODEL_1c75edef79384605a596a728699d9943",
            "_dom_classes": [],
            "description": "",
            "_model_name": "HTMLModel",
            "placeholder": "​",
            "_view_module": "@jupyter-widgets/controls",
            "_model_module_version": "1.5.0",
            "value": " 20/20 [1:03:42&lt;00:00, 191.10s/it]",
            "_view_count": null,
            "_view_module_version": "1.5.0",
            "description_tooltip": null,
            "_model_module": "@jupyter-widgets/controls",
            "layout": "IPY_MODEL_b17d96cf76114081a556f6583055d01c"
          }
        },
        "3da640abeec44dd18c561d461049c511": {
          "model_module": "@jupyter-widgets/controls",
          "model_name": "ProgressStyleModel",
          "state": {
            "_view_name": "StyleView",
            "_model_name": "ProgressStyleModel",
            "description_width": "initial",
            "_view_module": "@jupyter-widgets/base",
            "_model_module_version": "1.5.0",
            "_view_count": null,
            "_view_module_version": "1.2.0",
            "bar_color": null,
            "_model_module": "@jupyter-widgets/controls"
          }
        },
        "782ab2a22e9c4583ad07c26d3ee8f7b4": {
          "model_module": "@jupyter-widgets/base",
          "model_name": "LayoutModel",
          "state": {
            "_view_name": "LayoutView",
            "grid_template_rows": null,
            "right": null,
            "justify_content": null,
            "_view_module": "@jupyter-widgets/base",
            "overflow": null,
            "_model_module_version": "1.2.0",
            "_view_count": null,
            "flex_flow": null,
            "width": null,
            "min_width": null,
            "border": null,
            "align_items": null,
            "bottom": null,
            "_model_module": "@jupyter-widgets/base",
            "top": null,
            "grid_column": null,
            "overflow_y": null,
            "overflow_x": null,
            "grid_auto_flow": null,
            "grid_area": null,
            "grid_template_columns": null,
            "flex": null,
            "_model_name": "LayoutModel",
            "justify_items": null,
            "grid_row": null,
            "max_height": null,
            "align_content": null,
            "visibility": null,
            "align_self": null,
            "height": null,
            "min_height": null,
            "padding": null,
            "grid_auto_rows": null,
            "grid_gap": null,
            "max_width": null,
            "order": null,
            "_view_module_version": "1.2.0",
            "grid_template_areas": null,
            "object_position": null,
            "object_fit": null,
            "grid_auto_columns": null,
            "margin": null,
            "display": null,
            "left": null
          }
        },
        "1c75edef79384605a596a728699d9943": {
          "model_module": "@jupyter-widgets/controls",
          "model_name": "DescriptionStyleModel",
          "state": {
            "_view_name": "StyleView",
            "_model_name": "DescriptionStyleModel",
            "description_width": "",
            "_view_module": "@jupyter-widgets/base",
            "_model_module_version": "1.5.0",
            "_view_count": null,
            "_view_module_version": "1.2.0",
            "_model_module": "@jupyter-widgets/controls"
          }
        },
        "b17d96cf76114081a556f6583055d01c": {
          "model_module": "@jupyter-widgets/base",
          "model_name": "LayoutModel",
          "state": {
            "_view_name": "LayoutView",
            "grid_template_rows": null,
            "right": null,
            "justify_content": null,
            "_view_module": "@jupyter-widgets/base",
            "overflow": null,
            "_model_module_version": "1.2.0",
            "_view_count": null,
            "flex_flow": null,
            "width": null,
            "min_width": null,
            "border": null,
            "align_items": null,
            "bottom": null,
            "_model_module": "@jupyter-widgets/base",
            "top": null,
            "grid_column": null,
            "overflow_y": null,
            "overflow_x": null,
            "grid_auto_flow": null,
            "grid_area": null,
            "grid_template_columns": null,
            "flex": null,
            "_model_name": "LayoutModel",
            "justify_items": null,
            "grid_row": null,
            "max_height": null,
            "align_content": null,
            "visibility": null,
            "align_self": null,
            "height": null,
            "min_height": null,
            "padding": null,
            "grid_auto_rows": null,
            "grid_gap": null,
            "max_width": null,
            "order": null,
            "_view_module_version": "1.2.0",
            "grid_template_areas": null,
            "object_position": null,
            "object_fit": null,
            "grid_auto_columns": null,
            "margin": null,
            "display": null,
            "left": null
          }
        }
      }
    }
  },
  "cells": [
    {
      "cell_type": "markdown",
      "metadata": {
        "id": "jpVrJH6jMBTu"
      },
      "source": [
        "## Домашнее задание №1\n",
        "\n",
        "В этом домашнем задании вы познакомитесь с pytorch сами и сможете попрактиковаться в его применении. \n",
        "\n",
        "#### План:\n",
        "\n",
        "1. Простейшие операции в pytorch\n",
        "2. Пишем Adam и применяем его к ручной модели\n",
        "3. Обучаем свою первую нейросеть"
      ]
    },
    {
      "cell_type": "code",
      "metadata": {
        "id": "A_vTCvNOMBT1"
      },
      "source": [
        "import os\n",
        "import sys\n",
        "import math\n",
        "import torch\n",
        "import random\n",
        "import numpy as np\n",
        "from tqdm import tqdm_notebook as tqdm\n",
        "import torch.nn.functional as F\n",
        "import torch.nn as nn\n",
        "import matplotlib.pyplot as plt\n",
        "from torch.utils.data import DataLoader\n",
        "import torchvision\n",
        "import torchvision.transforms as transforms\n",
        "\n",
        "plt.style.use('ggplot')\n",
        "device = 'cuda'"
      ],
      "execution_count": 5,
      "outputs": []
    },
    {
      "cell_type": "code",
      "metadata": {
        "id": "QVLH7PgoezYa",
        "outputId": "52041f47-6642-4097-9a33-9b6718ebbf69",
        "colab": {
          "base_uri": "https://localhost:8080/"
        }
      },
      "source": [
        "torch.cuda.is_available()"
      ],
      "execution_count": 6,
      "outputs": [
        {
          "output_type": "execute_result",
          "data": {
            "text/plain": [
              "True"
            ]
          },
          "metadata": {
            "tags": []
          },
          "execution_count": 6
        }
      ]
    },
    {
      "cell_type": "markdown",
      "metadata": {
        "id": "NRtxuYgDMBUD"
      },
      "source": [
        "### Простейшие операции на pytorch (2 балла)"
      ]
    },
    {
      "cell_type": "markdown",
      "metadata": {
        "id": "aKbupcqzMBUG"
      },
      "source": [
        "**Task**: Cоздайте два случайных тензора (двумерных, не квадратных):"
      ]
    },
    {
      "cell_type": "code",
      "metadata": {
        "id": "dTG8ZPBaMBUI"
      },
      "source": [
        "x = torch.randn(10, 2)\n",
        "y = torch.randn(2, 13)"
      ],
      "execution_count": null,
      "outputs": []
    },
    {
      "cell_type": "code",
      "metadata": {
        "id": "BIFQnLokOPsX",
        "outputId": "618aa1ff-8356-4857-cffe-3f39e0617c38",
        "colab": {
          "base_uri": "https://localhost:8080/",
          "height": 537
        }
      },
      "source": [
        "x.mm(y)"
      ],
      "execution_count": null,
      "outputs": [
        {
          "output_type": "execute_result",
          "data": {
            "text/plain": [
              "tensor([[-6.6559e-01,  7.5990e-01,  8.2056e-01, -7.4306e-01, -1.0186e+00,\n",
              "          1.2420e+00,  8.5717e-01, -9.1479e-01, -1.0280e+00, -3.2370e+00,\n",
              "         -1.5813e+00, -5.4043e-01, -1.3259e+00],\n",
              "        [ 5.8470e-01,  1.8944e+00, -2.9270e+00, -1.0797e+00, -7.8541e-01,\n",
              "         -9.1057e-01, -1.3028e+00, -4.7037e-01,  3.1130e-01,  4.6223e-01,\n",
              "         -1.9148e+00,  5.0689e-02, -1.4398e+00],\n",
              "        [ 9.9179e-02, -1.5556e+00,  1.1199e+00,  1.0861e+00,  1.0977e+00,\n",
              "         -2.8670e-01,  1.8184e-01,  8.5357e-01,  4.8633e-01,  1.8231e+00,\n",
              "          2.0958e+00,  3.1928e-01,  1.6640e+00],\n",
              "        [ 2.5990e-01,  1.8119e+00, -2.1363e+00, -1.1358e+00, -9.8518e-01,\n",
              "         -3.3642e-01, -7.8727e-01, -6.9136e-01, -8.5640e-02, -6.9605e-01,\n",
              "         -2.1019e+00, -1.3800e-01, -1.6260e+00],\n",
              "        [-5.2992e-01,  4.5378e-01,  7.8353e-01, -4.8934e-01, -7.1177e-01,\n",
              "          9.7820e-01,  7.1491e-01, -6.5312e-01, -7.8351e-01, -2.4366e+00,\n",
              "         -1.0640e+00, -4.0524e-01, -9.0189e-01],\n",
              "        [-4.8723e-01,  1.5365e+00, -2.4347e-01, -1.2068e+00, -1.3885e+00,\n",
              "          9.7826e-01,  4.1709e-01, -1.1571e+00, -9.7892e-01, -3.2808e+00,\n",
              "         -2.4217e+00, -5.5786e-01, -1.9672e+00],\n",
              "        [ 3.3424e-02, -2.5498e-01,  1.4551e-01,  1.8394e-01,  1.9335e-01,\n",
              "         -7.7647e-02,  3.4897e-03,  1.5376e-01,  1.0170e-01,  3.6410e-01,\n",
              "          3.5903e-01,  6.3028e-02,  2.8701e-01],\n",
              "        [ 5.4010e-01, -2.8530e-01, -9.5118e-01,  3.7891e-01,  6.0923e-01,\n",
              "         -9.8451e-01, -7.6668e-01,  5.7756e-01,  7.5764e-01,  2.3188e+00,\n",
              "          8.5590e-01,  3.8370e-01,  7.3907e-01],\n",
              "        [ 3.0610e-01, -1.2087e+00,  3.6254e-01,  9.2274e-01,  1.0319e+00,\n",
              "         -6.3172e-01, -2.0980e-01,  8.4796e-01,  6.7121e-01,  2.2873e+00,\n",
              "          1.8353e+00,  3.9075e-01,  1.4833e+00],\n",
              "        [-9.9364e-01, -2.6000e+00,  4.4409e+00,  1.4160e+00,  9.2855e-01,\n",
              "          1.5911e+00,  2.0811e+00,  4.9136e-01, -6.7207e-01, -1.3612e+00,\n",
              "          2.4553e+00, -1.8866e-01,  1.8172e+00]])"
            ]
          },
          "metadata": {
            "tags": []
          },
          "execution_count": 131
        }
      ]
    },
    {
      "cell_type": "markdown",
      "metadata": {
        "id": "88PE6vQmMBUa"
      },
      "source": [
        "**Task**: Умножьте их друг на друга, результат запишите в третий тензор без использования оператора `=`, для создания третьего тензора предлагается использовать `torch.empty`:"
      ]
    },
    {
      "cell_type": "code",
      "metadata": {
        "id": "_YXQa3MKMBUc",
        "outputId": "d08b7f41-2e01-4d30-9f65-ff6e5c56510d",
        "colab": {
          "base_uri": "https://localhost:8080/",
          "height": 35
        }
      },
      "source": [
        "z = torch.empty(10, 13)\n",
        "z.add(x.mm(y))\n",
        "z.shape"
      ],
      "execution_count": null,
      "outputs": [
        {
          "output_type": "execute_result",
          "data": {
            "text/plain": [
              "torch.Size([10, 13])"
            ]
          },
          "metadata": {
            "tags": []
          },
          "execution_count": 132
        }
      ]
    },
    {
      "cell_type": "markdown",
      "metadata": {
        "id": "rUt6_s_dMBUp"
      },
      "source": [
        "**Task**: Реализуйте ReLU использую только pytorch, примените его к тензору `x` (запрещено использование модулей torch.nn и его подмодулей, а также функции torch.relu)"
      ]
    },
    {
      "cell_type": "code",
      "metadata": {
        "id": "Bv0lFi8gMBUr",
        "outputId": "abb5427e-1e19-4dd7-a2c8-b31eaee7f244",
        "colab": {
          "base_uri": "https://localhost:8080/",
          "height": 72
        }
      },
      "source": [
        "def relu_forward(x):\n",
        "  x = x*torch.tensor(x>0).int()\n",
        "  \n",
        "  return x\n",
        "\n",
        "assert torch.all(F.relu(x) == relu_forward(x))"
      ],
      "execution_count": null,
      "outputs": [
        {
          "output_type": "stream",
          "text": [
            "/usr/local/lib/python3.6/dist-packages/ipykernel_launcher.py:2: UserWarning: To copy construct from a tensor, it is recommended to use sourceTensor.clone().detach() or sourceTensor.clone().detach().requires_grad_(True), rather than torch.tensor(sourceTensor).\n",
            "  \n"
          ],
          "name": "stderr"
        }
      ]
    },
    {
      "cell_type": "code",
      "metadata": {
        "id": "7ou4Fj75ftmo",
        "outputId": "bf1f0e65-a19e-40dd-8d81-32d1c4013afa",
        "colab": {
          "base_uri": "https://localhost:8080/",
          "height": 191
        }
      },
      "source": [
        "(x>0).int()"
      ],
      "execution_count": null,
      "outputs": [
        {
          "output_type": "execute_result",
          "data": {
            "text/plain": [
              "tensor([[1, 0],\n",
              "        [0, 0],\n",
              "        [0, 1],\n",
              "        [1, 0],\n",
              "        [1, 0],\n",
              "        [1, 0],\n",
              "        [0, 1],\n",
              "        [0, 1],\n",
              "        [0, 1],\n",
              "        [1, 1]], dtype=torch.int32)"
            ]
          },
          "metadata": {
            "tags": []
          },
          "execution_count": 134
        }
      ]
    },
    {
      "cell_type": "markdown",
      "metadata": {
        "id": "V6haYgFpMBVH"
      },
      "source": [
        "**Task**: Сделайте тоже самое c ELU (запрещено использование модулей torch.nn и его подмодулей):"
      ]
    },
    {
      "cell_type": "code",
      "metadata": {
        "id": "1ymGWY_oMBVL",
        "outputId": "117e1100-1349-4ad7-c291-1a63f56ad31f",
        "colab": {
          "base_uri": "https://localhost:8080/",
          "height": 72
        }
      },
      "source": [
        "def elu_forward(x):\n",
        "  x = x*torch.tensor(x>0).int() +  (torch.exp(x) - 1) * torch.tensor(x<=0).int()\n",
        "  \n",
        "  return x\n",
        "\n",
        "\n",
        "assert torch.allclose(\n",
        "    F.elu(x),\n",
        "    elu_forward(x), \n",
        "    1e-4\n",
        ")"
      ],
      "execution_count": null,
      "outputs": [
        {
          "output_type": "stream",
          "text": [
            "/usr/local/lib/python3.6/dist-packages/ipykernel_launcher.py:2: UserWarning: To copy construct from a tensor, it is recommended to use sourceTensor.clone().detach() or sourceTensor.clone().detach().requires_grad_(True), rather than torch.tensor(sourceTensor).\n",
            "  \n"
          ],
          "name": "stderr"
        }
      ]
    },
    {
      "cell_type": "markdown",
      "metadata": {
        "id": "NqBzZf1aMBVe"
      },
      "source": [
        "**Task**: LeakyReLU (запрещено использование модулей torch.nn и его подмодулей):"
      ]
    },
    {
      "cell_type": "code",
      "metadata": {
        "id": "53zdV4kZMBVh"
      },
      "source": [
        "def lrelu_forward(x, alpha):\n",
        "  x = x * (alpha*x < x).int() + alpha*x * (alpha*x > x).int()\n",
        "  \n",
        "  return x\n",
        "\n",
        "\n",
        "assert torch.all(F.leaky_relu(x, 0.01) == lrelu_forward(x, 0.01))"
      ],
      "execution_count": null,
      "outputs": []
    },
    {
      "cell_type": "markdown",
      "metadata": {
        "id": "-ouOqPG4MBVt"
      },
      "source": [
        "**Task**: Теперь перейдем к немного более современным функциям активаций, например Mish, напомним как она выглядит:\n",
        "\n",
        "$$x * tanh(ln(1+e^x))$$\n",
        "\n",
        "(запрещено использование модулей torch.nn и его подмодулей)"
      ]
    },
    {
      "cell_type": "code",
      "metadata": {
        "id": "bXbhOh4CMBVw"
      },
      "source": [
        "def mish(x):\n",
        "  x = x * torch.tanh(torch.log(1 + torch.exp(x)))\n",
        "\n",
        "  return x"
      ],
      "execution_count": null,
      "outputs": []
    },
    {
      "cell_type": "code",
      "metadata": {
        "id": "NF6oae7VMBV6"
      },
      "source": [
        "assert torch.allclose(\n",
        "    mish(torch.tensor([1, 1, 1], dtype=torch.float32)), \n",
        "    torch.tensor([0.8651, 0.8651, 0.8651]), \n",
        "    atol=1e-4\n",
        ")\n",
        "\n",
        "assert torch.allclose(\n",
        "    mish(torch.tensor([0.6376, 0.4021, 0.6656, 0.3726], dtype=torch.float64)), \n",
        "    torch.tensor([0.5014, 0.2908, 0.5280, 0.2663], dtype=torch.float64), \n",
        "    atol=1e-4\n",
        ")"
      ],
      "execution_count": null,
      "outputs": []
    },
    {
      "cell_type": "markdown",
      "metadata": {
        "id": "UzdlM9BkMBWG"
      },
      "source": [
        "**Task**: Теперь реализуем swish, напомним как она выглядит:\n",
        "\n",
        "$$x * \\sigma(x)$$\n",
        "\n",
        "(запрещено использование модулей torch.nn и его подмодулей)"
      ]
    },
    {
      "cell_type": "code",
      "metadata": {
        "id": "zPu0KHb9MBWJ"
      },
      "source": [
        "def swish(x):\n",
        "  x = x * torch.sigmoid(x)\n",
        "\n",
        "  return x"
      ],
      "execution_count": null,
      "outputs": []
    },
    {
      "cell_type": "code",
      "metadata": {
        "id": "yl0J9tWaMBWb"
      },
      "source": [
        "assert torch.allclose(\n",
        "    swish(torch.tensor([1, 1, 1], dtype=torch.float32)), \n",
        "    torch.tensor([0.7311, 0.7311, 0.7311]), \n",
        "    atol=1e-4\n",
        ")\n",
        "\n",
        "assert torch.allclose(\n",
        "    swish(torch.tensor([0.6376, 0.4021, 0.6656, 0.3726], dtype=torch.float64)), \n",
        "    torch.tensor([0.4171, 0.2409, 0.4396, 0.2206], dtype=torch.float64), \n",
        "    atol=1e-4\n",
        ")"
      ],
      "execution_count": null,
      "outputs": []
    },
    {
      "cell_type": "markdown",
      "metadata": {
        "id": "DgCmX4PzMBWl"
      },
      "source": [
        "### Пишем Adam и применяем его к логистической регрессии (4 балла)\n",
        "\n",
        "\n",
        "В данной секции вам нужно сделать две вещи: \n",
        "\n",
        "1. Написать свой собственный оптимизатор подобно тому, который мы писали на семинаре\n",
        "2. Обучить логистическую регрессию побатчево на картинках из датасета \n",
        "\n",
        "\n",
        "#### Adam\n",
        "\n",
        "\n",
        "$$\n",
        "\\begin{eqnarray}\n",
        "g &=& \\frac{1}{m}\\nabla_w \\sum_i L(f(x_{i};w), y_{i}) \\\\\n",
        "m &=& \\beta_1 m + (1 - \\beta_1) g \\\\\n",
        "v &=& \\beta_2 v + (1 - \\beta_2) diag(gg^{T}) \\\\\n",
        "\\hat{m} &=& \\frac{m}{1 - \\beta_1^{t}} \\\\\n",
        "\\hat{v} &=& \\frac{v}{1 - \\beta_2^{t}} \\\\\n",
        "w &=& w - \\frac{\\eta}{\\sqrt{\\hat{v} + \\epsilon}} \\odot \\hat{m}\n",
        "\\end{eqnarray}\n",
        "$$"
      ]
    },
    {
      "cell_type": "code",
      "metadata": {
        "id": "wRGCJTP3MBWn"
      },
      "source": [
        "# абстрактный класс, не обращайте внимания\n",
        "from torch.optim import Optimizer\n",
        "\n",
        "\n",
        "class InClassOptimizer(Optimizer):\n",
        "    def step(self):\n",
        "        \"\"\"Perform single optimization step.\"\"\"\n",
        "        with torch.no_grad(): # выключим градиенты\n",
        "            for group in self.param_groups:\n",
        "                self._group_step(group)\n",
        "\n",
        "    def _group_step(self, group):\n",
        "        # group ~ dict[str, ...]\n",
        "        \"\"\"\n",
        "        Private helper function to perform\n",
        "        single optimization step on model parameters.\n",
        "        \"\"\"\n",
        "        raise NotImplementedError()"
      ],
      "execution_count": 7,
      "outputs": []
    },
    {
      "cell_type": "markdown",
      "metadata": {
        "id": "Me6Bs3u2MBW2"
      },
      "source": [
        "**Task**: Напишите свою реализацию Adam:"
      ]
    },
    {
      "cell_type": "code",
      "metadata": {
        "id": "e4HNY6GnMBW4"
      },
      "source": [
        "class Adam(InClassOptimizer):\n",
        "    def __init__(self, params, lr=0.001, eps=1e-13, beta_1=0.9, beta_2=0.999):\n",
        "        defaults = dict(lr=lr, eps=eps, beta_1=beta_1, beta_2=beta_2)\n",
        "        super().__init__(params, defaults)\n",
        "\n",
        "    def _group_step(self, group):\n",
        "        # One group contains information about values passed in init\n",
        "        # and model parameters to update\n",
        "        lr = group['lr']\n",
        "        eps = group['eps']\n",
        "        beta_1 = group['beta_1']\n",
        "        beta_2 = group['beta_2']\n",
        "        \n",
        "        for param in filter(lambda x: x.grad is not None, group['params']):\n",
        "\n",
        "            self._init_adam_buffer(param)\n",
        "            d_param = param.grad\n",
        "            v, m, t = self._get_adam_buffer(param)\n",
        "            torch.add(beta_1*m, (1 - beta_1) * d_param, out=m)\n",
        "            hat_m = m / (1 - beta_1 ** t)\n",
        "            torch.add(beta_2*v, (1 - beta_2) * d_param**2, out=v)\n",
        "            hat_v = v / (1 - beta_2 ** t)\n",
        "            param.add_(hat_m/torch.sqrt(hat_v + eps), alpha=-lr)\n",
        "            \n",
        "            pass\n",
        "\n",
        "    def _get_adam_buffer(self, param):\n",
        "        \"\"\"\n",
        "        Get accumulated gradients for Adam.\n",
        "\n",
        "        Parameters\n",
        "        ----------\n",
        "        param : `torch.Tensor`, required\n",
        "            Model parameter to get accumulated gradeints for Adagrad.\n",
        "\n",
        "        Returns\n",
        "        -------\n",
        "        Accumulated Adam gradients for parameter.\n",
        "        \"\"\"\n",
        "        param_st = self.state[param]\n",
        "        param_st['adam_t'] += 1\n",
        "        return param_st['adam_buffer'], param_st['adam_m'], param_st['adam_t']\n",
        "\n",
        "    def _init_adam_buffer(self, param):\n",
        "        \"\"\"\n",
        "        Initialize accumulated gradeints for adam.\n",
        "\n",
        "        Parameters\n",
        "        ----------\n",
        "        param : `torch.Tensor`, required\n",
        "            Model parameter to get accumulated gradeints for adam.\n",
        "        \"\"\"\n",
        "        param_st = self.state[param]\n",
        "        if 'adam_buffer' not in param_st:\n",
        "            param_st['adam_buffer'] = torch.zeros_like(param)\n",
        "        if 'adam_m' not in param_st:\n",
        "            param_st['adam_m'] = torch.zeros_like(param)\n",
        "        if 'adam_t' not in param_st:\n",
        "            param_st['adam_t'] = 0\n",
        "        pass\n"
      ],
      "execution_count": 8,
      "outputs": []
    },
    {
      "cell_type": "code",
      "metadata": {
        "id": "4yrAfQxnVFiA"
      },
      "source": [
        "# проверим теперь, правильно ли работает самодельный Адам"
      ],
      "execution_count": 9,
      "outputs": []
    },
    {
      "cell_type": "code",
      "metadata": {
        "id": "4XQG9TmwTxSd"
      },
      "source": [
        "from sklearn.datasets import make_regression\n",
        "\n",
        "def seed_everything(seed):\n",
        "    random.seed(seed)\n",
        "    os.environ[\"PYTHONHASHSEED\"] = str(seed)\n",
        "    np.random.seed(seed)\n",
        "    torch.manual_seed(seed)\n",
        "    torch.cuda.manual_seed(seed)\n",
        "    torch.backends.cudnn.deterministic = True\n",
        "\n",
        "X, y = map(\n",
        "    lambda x: torch.from_numpy(x).float(),\n",
        "    make_regression(n_samples=200, n_features=2)\n",
        ")\n",
        "\n",
        "def get_model():\n",
        "    seed_everything(13)\n",
        "    return torch.nn.Sequential(\n",
        "        torch.nn.Linear(2, 10),\n",
        "        torch.nn.Linear(10, 1)\n",
        "    )"
      ],
      "execution_count": 10,
      "outputs": []
    },
    {
      "cell_type": "code",
      "metadata": {
        "id": "JpQiJZ1APs7z"
      },
      "source": [
        "def check_optimizer(model, optim, num_iter):\n",
        "    loss = torch.nn.MSELoss()\n",
        "    for i in range(num_iter):\n",
        "        output = loss(model(X), y.unsqueeze(-1))\n",
        "        output.backward()\n",
        "        optim.step()\n",
        "        optim.zero_grad()\n",
        "        if i % 100 == 0:\n",
        "            print(f'Iteration {i} loss:', output.item())"
      ],
      "execution_count": 11,
      "outputs": []
    },
    {
      "cell_type": "code",
      "metadata": {
        "id": "b86AJhlyTkVY",
        "outputId": "31eb3ab8-84b3-4f18-f26c-f1484320748b",
        "colab": {
          "base_uri": "https://localhost:8080/"
        }
      },
      "source": [
        "model = get_model()\n",
        "optim = Adam(model.parameters(), lr=0.005)\n",
        "check_optimizer(model, optim, num_iter=1001)"
      ],
      "execution_count": 12,
      "outputs": [
        {
          "output_type": "stream",
          "text": [
            "Iteration 0 loss: 1583.11767578125\n",
            "Iteration 100 loss: 1218.565185546875\n",
            "Iteration 200 loss: 438.6893005371094\n",
            "Iteration 300 loss: 34.65418243408203\n",
            "Iteration 400 loss: 0.3573785424232483\n",
            "Iteration 500 loss: 0.000606690940912813\n",
            "Iteration 600 loss: 1.479176603425003e-07\n",
            "Iteration 700 loss: 1.8749168884113487e-09\n",
            "Iteration 800 loss: 1.8815997648857774e-09\n",
            "Iteration 900 loss: 1.8815997648857774e-09\n",
            "Iteration 1000 loss: 1.8815997648857774e-09\n"
          ],
          "name": "stdout"
        }
      ]
    },
    {
      "cell_type": "code",
      "metadata": {
        "id": "aIM2MnXgUR6i",
        "outputId": "7a1aaed3-baf1-48b6-b5ba-3e593cec0ea4",
        "colab": {
          "base_uri": "https://localhost:8080/"
        }
      },
      "source": [
        "model = get_model()\n",
        "optim = torch.optim.Adam(model.parameters(), lr=0.005)\n",
        "check_optimizer(model, optim, num_iter=1001)"
      ],
      "execution_count": 13,
      "outputs": [
        {
          "output_type": "stream",
          "text": [
            "Iteration 0 loss: 1583.11767578125\n",
            "Iteration 100 loss: 1218.565185546875\n",
            "Iteration 200 loss: 438.6891784667969\n",
            "Iteration 300 loss: 34.65415954589844\n",
            "Iteration 400 loss: 0.3573779761791229\n",
            "Iteration 500 loss: 0.0006066903006285429\n",
            "Iteration 600 loss: 1.4809191384301812e-07\n",
            "Iteration 700 loss: 1.867049403969645e-09\n",
            "Iteration 800 loss: 1.8625382347536856e-09\n",
            "Iteration 900 loss: 1.8706465265694305e-09\n",
            "Iteration 1000 loss: 1.867049403969645e-09\n"
          ],
          "name": "stdout"
        }
      ]
    },
    {
      "cell_type": "markdown",
      "metadata": {
        "id": "i2uPo1mNMBXC"
      },
      "source": [
        "**Task**: Создайте параметры для обучения логистической регрессии, сделаем Xavier ициализацию, которая выглядит следующим образом: \n",
        "\n",
        "$$w \\sim U[-\\frac{\\sqrt{6}}{\\sqrt{n_{in} + n_{out}}}, \\frac{\\sqrt{6}}{\\sqrt{n_{in} + n_{out}}}]$$\n",
        "\n",
        "где: \n",
        "\n",
        "* $n_{in}$ -- размер входа (в нейронах) \n",
        "* $n_{out}$ -- размер выхода (в нейронах)\n",
        "\n",
        "Подумайте над выбором $n_{in}$ и $n_{out}$ самостоятельно. "
      ]
    },
    {
      "cell_type": "code",
      "metadata": {
        "id": "ZlQMivoeMBXE"
      },
      "source": [
        "n_in = 28*28\n",
        "n_out = 10\n",
        "weights = (-2*np.sqrt(6/(n_in + n_out)) * torch.rand(size=(n_in, n_out)) + np.sqrt(6/(n_in + n_out))).requires_grad_()\n",
        "intercept = torch.zeros(10, requires_grad=True)"
      ],
      "execution_count": 14,
      "outputs": []
    },
    {
      "cell_type": "code",
      "metadata": {
        "id": "4u_9d600MBXN"
      },
      "source": [
        "optimizer = Adam([weights, intercept], lr=0.005)\n",
        "loss = nn.CrossEntropyLoss()"
      ],
      "execution_count": 15,
      "outputs": []
    },
    {
      "cell_type": "markdown",
      "metadata": {
        "id": "eaZczaA5MBXW"
      },
      "source": [
        "Загрузим данные и создадим даталоадеры:"
      ]
    },
    {
      "cell_type": "code",
      "metadata": {
        "id": "eCa0opYrMBXa",
        "outputId": "4dbf7479-e3f1-4c6d-d72b-00c06831d621",
        "colab": {
          "base_uri": "https://localhost:8080/",
          "height": 398,
          "referenced_widgets": [
            "777e989b385144668ade4779c3f1c8df",
            "ac5a5e9df3064881ba7ac66d48d9dc52",
            "7793423f4c8d437685b9056f61a1e40f",
            "f6e1f455c75d4e3899e3f4f58f7bfa98",
            "164bb077a8d947339f667fe018efe895",
            "d0d49dbfc7244daea57a5a15bedd35cd",
            "dd952f17a37142b68ac18d4e4b2eb1b6",
            "fe9ab952da8b48169095022a689ffe1b",
            "6b2fc4c1eabf4191ad7a1cad7c98f5dd",
            "db7770ae06cd42fcbf018dc0b4294166",
            "a8334b65e922443d9aa45ec7cc9659d4",
            "ed224af5e6ff4b2aae05de5b29fc8ab4",
            "37e409850a3848bdb8770d0f47c9d644",
            "c2e45ec593e846a291d662dc35edd284",
            "3bd35c97fa9c4b5db8c893ac89ec5188",
            "542355f4dd0549a88acbd977045ec90b",
            "9e21cd6ef41f43759dc3a2b43b90b975",
            "e1a774738f7a4acb97a57ab7ac499213",
            "464f4a26c203467cb790b9aba0c5ea46",
            "81e004d44cda4de5b4bba3c9062bcaf1",
            "3b5b038d830a44eab592a8dfc3839024",
            "6f619cc8d1c94adc807a62b14e348e3b",
            "e3527a12f0ce45238c8df156505233fe",
            "fe58ec58982c446bb8404cbac1e60801",
            "08873462f4d94493ba1e09f8ccb661d0",
            "6c7cf2f15b3e45d6a15cee6e3bff0126",
            "a3556c9068d240698657adcc19a6f873",
            "bd42f3b400be4d358d47308095850dac",
            "46120615e42e4e7fb5b9db4a1c718d7b",
            "d3ccc2831c354d56a2816eb62cf1e62b",
            "6b6a1debe07b404b8ddb36e472c7a7b1",
            "9603148b39cf4f2cb2d0d2489bdff62e"
          ]
        }
      },
      "source": [
        "fashion_mnist_train = torchvision.datasets.FashionMNIST(\n",
        "    './data',\n",
        "    download=True,\n",
        "    transform=transforms.Compose([transforms.ToTensor()])\n",
        ")\n",
        "train_dataloader = DataLoader(\n",
        "    fashion_mnist_train, batch_size=32, shuffle=True, num_workers=2\n",
        ")\n",
        "fashion_mnist_eval = torchvision.datasets.FashionMNIST(\n",
        "    './data',\n",
        "    train=False,\n",
        "    download=True,\n",
        "    transform=transforms.Compose([transforms.ToTensor()])\n",
        ")\n",
        "\n",
        "eval_dataloader = DataLoader(\n",
        "    fashion_mnist_eval, batch_size=32, num_workers=2\n",
        ")"
      ],
      "execution_count": 16,
      "outputs": [
        {
          "output_type": "stream",
          "text": [
            "Downloading http://fashion-mnist.s3-website.eu-central-1.amazonaws.com/train-images-idx3-ubyte.gz to ./data/FashionMNIST/raw/train-images-idx3-ubyte.gz\n"
          ],
          "name": "stdout"
        },
        {
          "output_type": "display_data",
          "data": {
            "application/vnd.jupyter.widget-view+json": {
              "model_id": "777e989b385144668ade4779c3f1c8df",
              "version_minor": 0,
              "version_major": 2
            },
            "text/plain": [
              "HBox(children=(FloatProgress(value=1.0, bar_style='info', max=1.0), HTML(value='')))"
            ]
          },
          "metadata": {
            "tags": []
          }
        },
        {
          "output_type": "stream",
          "text": [
            "Extracting ./data/FashionMNIST/raw/train-images-idx3-ubyte.gz to ./data/FashionMNIST/raw\n",
            "Downloading http://fashion-mnist.s3-website.eu-central-1.amazonaws.com/train-labels-idx1-ubyte.gz to ./data/FashionMNIST/raw/train-labels-idx1-ubyte.gz\n"
          ],
          "name": "stdout"
        },
        {
          "output_type": "display_data",
          "data": {
            "application/vnd.jupyter.widget-view+json": {
              "model_id": "6b2fc4c1eabf4191ad7a1cad7c98f5dd",
              "version_minor": 0,
              "version_major": 2
            },
            "text/plain": [
              "HBox(children=(FloatProgress(value=1.0, bar_style='info', max=1.0), HTML(value='')))"
            ]
          },
          "metadata": {
            "tags": []
          }
        },
        {
          "output_type": "stream",
          "text": [
            "Extracting ./data/FashionMNIST/raw/train-labels-idx1-ubyte.gz to ./data/FashionMNIST/raw\n",
            "Downloading http://fashion-mnist.s3-website.eu-central-1.amazonaws.com/t10k-images-idx3-ubyte.gz to ./data/FashionMNIST/raw/t10k-images-idx3-ubyte.gz\n",
            "\n",
            "\n"
          ],
          "name": "stdout"
        },
        {
          "output_type": "display_data",
          "data": {
            "application/vnd.jupyter.widget-view+json": {
              "model_id": "9e21cd6ef41f43759dc3a2b43b90b975",
              "version_minor": 0,
              "version_major": 2
            },
            "text/plain": [
              "HBox(children=(FloatProgress(value=1.0, bar_style='info', max=1.0), HTML(value='')))"
            ]
          },
          "metadata": {
            "tags": []
          }
        },
        {
          "output_type": "stream",
          "text": [
            "Extracting ./data/FashionMNIST/raw/t10k-images-idx3-ubyte.gz to ./data/FashionMNIST/raw\n",
            "Downloading http://fashion-mnist.s3-website.eu-central-1.amazonaws.com/t10k-labels-idx1-ubyte.gz to ./data/FashionMNIST/raw/t10k-labels-idx1-ubyte.gz\n"
          ],
          "name": "stdout"
        },
        {
          "output_type": "display_data",
          "data": {
            "application/vnd.jupyter.widget-view+json": {
              "model_id": "08873462f4d94493ba1e09f8ccb661d0",
              "version_minor": 0,
              "version_major": 2
            },
            "text/plain": [
              "HBox(children=(FloatProgress(value=1.0, bar_style='info', max=1.0), HTML(value='')))"
            ]
          },
          "metadata": {
            "tags": []
          }
        },
        {
          "output_type": "stream",
          "text": [
            "Extracting ./data/FashionMNIST/raw/t10k-labels-idx1-ubyte.gz to ./data/FashionMNIST/raw\n",
            "Processing...\n",
            "Done!\n"
          ],
          "name": "stdout"
        },
        {
          "output_type": "stream",
          "text": [
            "/usr/local/lib/python3.6/dist-packages/torchvision/datasets/mnist.py:469: UserWarning: The given NumPy array is not writeable, and PyTorch does not support non-writeable tensors. This means you can write to the underlying (supposedly non-writeable) NumPy array using the tensor. You may want to copy the array to protect its data or make it writeable before converting it to a tensor. This type of warning will be suppressed for the rest of this program. (Triggered internally at  /pytorch/torch/csrc/utils/tensor_numpy.cpp:141.)\n",
            "  return torch.from_numpy(parsed.astype(m[2], copy=False)).view(*s)\n"
          ],
          "name": "stderr"
        }
      ]
    },
    {
      "cell_type": "markdown",
      "metadata": {
        "id": "-lBm6aTmMBXn"
      },
      "source": [
        "Напишите функцию для тренировки логистической регрессии, она должна: \n",
        "    * Делать предсказания \n",
        "    * Считать лосс \n",
        "    * Подсчитывать градиенты\n",
        "    * Делать шаг оптимизации\n",
        "    * Обнулять посчитанные градиенты\n",
        "    * Считать метрики \n",
        "    * Возвращать полученные метрики\n",
        "    \n",
        "После этого предусмотрите возможность визуализировать метрики, чтобы нарисовать картинки, а именно от вас требуется визуализировать: \n",
        "\n",
        "    * Зависимость лосса от количества итераций\n",
        "    * Зависимость доли правильных ответов от количества итераций"
      ]
    },
    {
      "cell_type": "code",
      "metadata": {
        "id": "9MB1qELGF43A"
      },
      "source": [
        "class LogisticRegressionModel(nn.Module):\n",
        "    def __init__(self, X, bias, weights):\n",
        "        super(LogisticRegressionModel, self).__init__()\n",
        "        self.linear = bias + X @ weights \n",
        "\n",
        "    def forward(self):\n",
        "        out = torch.sigmoid(self.linear)\n",
        "        return out"
      ],
      "execution_count": 17,
      "outputs": []
    },
    {
      "cell_type": "code",
      "metadata": {
        "id": "bU0B2UXEotP3"
      },
      "source": [
        "def get_train_metrics(y_pred, y, loss):\n",
        "    loss_batch = loss.item()\n",
        "    accuracy_batch = (torch.argmax(y_pred, dim=-1) == y).numpy().tolist()\n",
        "    return loss_batch, accuracy_batch\n"
      ],
      "execution_count": 18,
      "outputs": []
    },
    {
      "cell_type": "code",
      "metadata": {
        "id": "00GSF0-kMBXp"
      },
      "source": [
        "def train_logistic_regression(weights, bias, batch, loss, optimizer):\n",
        "    X = batch[0]\n",
        "    y = batch[1]\n",
        "\n",
        "    X = X.view(-1, 28*28).requires_grad_()\n",
        "    model = LogisticRegressionModel(X, bias, weights)\n",
        "\n",
        "    y_pred = model()\n",
        "\n",
        "    output = loss(y_pred, y)\n",
        "    output.backward()\n",
        "    optimizer.step()\n",
        "    optimizer.zero_grad()\n",
        "\n",
        "    return get_train_metrics(y_pred, y, output)"
      ],
      "execution_count": 19,
      "outputs": []
    },
    {
      "cell_type": "code",
      "metadata": {
        "id": "kMhTtDnBMBX9",
        "outputId": "ab6aadbc-21b2-41bc-f940-61a39b544f91",
        "colab": {
          "base_uri": "https://localhost:8080/",
          "height": 116,
          "referenced_widgets": [
            "103ca71770c446e486539bc26698fdea",
            "a544da31883c491bb88f6f749a4f4ee7",
            "54f67cec921d45eba486fcda02ea3e2e",
            "2cf6f7900d064a219d185dbd4e1fa888",
            "b26f91a1c29b48f593cc6167c20e0e59",
            "8587be231a764f8f9e51c25012bedfdd",
            "1873e142272c4770be2777b042d3a855",
            "a56dbb9779d04dab85a586a819df6eb9"
          ]
        }
      },
      "source": [
        "bias = intercept\n",
        "\n",
        "val_loss = []\n",
        "val_accuracy = []\n",
        "\n",
        "train_loss = []\n",
        "train_accuracy = []\n",
        "\n",
        "for epoch in tqdm(range(1, 100)):\n",
        "    for batch in train_dataloader:\n",
        "        metrics = train_logistic_regression(weights, bias, batch, loss, optimizer)\n",
        "\n",
        "        train_loss.append(metrics[0])\n",
        "        train_accuracy.append(np.mean(metrics[1]))\n",
        "\n",
        "    val_loss_epoch = []\n",
        "    val_accuracy_epoch = []\n",
        "    with torch.no_grad(): \n",
        "        for X_val, y_val in eval_dataloader:\n",
        "            X_val = X_val.view(-1, 28*28)\n",
        "\n",
        "            model = LogisticRegressionModel(X_val, bias, weights)\n",
        "            y_pred_val = model() # делаем предсказания\n",
        "            l = loss(y_pred_val, y_val) # считаем лосс\n",
        "            val_loss_epoch.append(l.numpy()) # добавляем в массив \n",
        "            val_accuracy_epoch.extend((torch.argmax(y_pred_val, dim=-1) == y_val).numpy().tolist())\n",
        "\n",
        "    val_loss.append(np.mean(val_loss_epoch))\n",
        "    val_accuracy.append(np.mean(val_accuracy_epoch))"
      ],
      "execution_count": 20,
      "outputs": [
        {
          "output_type": "stream",
          "text": [
            "/usr/local/lib/python3.6/dist-packages/ipykernel_launcher.py:9: TqdmDeprecationWarning: This function will be removed in tqdm==5.0.0\n",
            "Please use `tqdm.notebook.tqdm` instead of `tqdm.tqdm_notebook`\n",
            "  if __name__ == '__main__':\n"
          ],
          "name": "stderr"
        },
        {
          "output_type": "display_data",
          "data": {
            "application/vnd.jupyter.widget-view+json": {
              "model_id": "103ca71770c446e486539bc26698fdea",
              "version_minor": 0,
              "version_major": 2
            },
            "text/plain": [
              "HBox(children=(FloatProgress(value=0.0, max=99.0), HTML(value='')))"
            ]
          },
          "metadata": {
            "tags": []
          }
        },
        {
          "output_type": "stream",
          "text": [
            "\n"
          ],
          "name": "stdout"
        }
      ]
    },
    {
      "cell_type": "code",
      "metadata": {
        "id": "tANICWDDP7_Y",
        "outputId": "b61bb752-b092-45ec-c5a2-d37c9a93790d",
        "colab": {
          "base_uri": "https://localhost:8080/",
          "height": 642
        }
      },
      "source": [
        "fig, ax = plt.subplots(2, 2, figsize=(15, 10))\n",
        "\n",
        "\n",
        "ax[0, 0].plot(train_accuracy)\n",
        "ax[0, 0].set_title('Train accuracy per batch')\n",
        "ax[0, 0].set_xlabel('batch number')\n",
        "ax[0, 0].set_ylabel('accuracy')\n",
        "\n",
        "ax[0, 1].plot(train_loss)\n",
        "ax[0, 1].set_title('Train loss per batch')\n",
        "ax[0, 1].set_xlabel('batch number')\n",
        "ax[0, 1].set_ylabel('loss')\n",
        "\n",
        "\n",
        "ax[1, 0].plot(val_accuracy)\n",
        "ax[1, 0].set_title('Mean val accuracy per epoch')\n",
        "ax[1, 0].set_xlabel('epoch number')\n",
        "ax[1, 0].set_ylabel('accuracy')\n",
        "\n",
        "ax[1, 1].plot(val_loss)\n",
        "ax[1, 1].set_title('Mean val loss per epoch')\n",
        "ax[1, 1].set_xlabel('epoch number')\n",
        "ax[1, 1].set_ylabel('loss')"
      ],
      "execution_count": 21,
      "outputs": [
        {
          "output_type": "execute_result",
          "data": {
            "text/plain": [
              "Text(0, 0.5, 'loss')"
            ]
          },
          "metadata": {
            "tags": []
          },
          "execution_count": 21
        },
        {
          "output_type": "display_data",
          "data": {
            "image/png": "[encoded data removed]",
            "text/plain": [
              "<Figure size 1080x720 with 4 Axes>"
            ]
          },
          "metadata": {
            "tags": []
          }
        }
      ]
    },
    {
      "cell_type": "markdown",
      "metadata": {
        "id": "VftRvS63MBYJ"
      },
      "source": [
        "#### Вопросы к секции: \n",
        "\n",
        "* Своими словами и без математики объясните благодаря чему Adam дает несмещенную оценку на квадрат градиента\n",
        "* Когда модель начала переобучаться? Как вы это поняли? Сделайте визуализацию и докажите свою точку зрения."
      ]
    },
    {
      "cell_type": "markdown",
      "metadata": {
        "id": "Mc2SkIOCfw2u"
      },
      "source": [
        "Ответы:\n",
        "\n",
        "1.   Адам дает несмещенною оценку, так как исправляет смещенее, возникающее при инициаизации скользящего среднего нулями\n",
        "2.    Как видно из картиночек, где-то с 10 эпохи, доля правильных ответов и лосс перестают сильно меняться и колеблются в определенно диапазоне, отсюда можно сделать вывод, что переобучение не произойдет, но и смысла в излишнем количестве эпох нет\n",
        "\n"
      ]
    },
    {
      "cell_type": "markdown",
      "metadata": {
        "id": "W7pVg8-qMBYL"
      },
      "source": [
        "### Моя первая нейросеть (4 балла)"
      ]
    },
    {
      "cell_type": "markdown",
      "metadata": {
        "id": "D-HrvR5AMBYN"
      },
      "source": [
        "В данной секции вам нужно сделать следующие вещи: \n",
        "\n",
        "* Реализовать три разных архитектуры нейросетей. Эти архитектуры должны принципиально отличаться друг от друга. Разрешается одной из архитекур брать полностью полносвязную модель. Остальные две должны быть сверточными и сильно отличаться друг от друга. К примеру, одна из таких архитектур может быть VGG подобная сеть, а другая ResNet подобная архитектура. \n",
        "\n",
        "* Написать цикл для обучения которым можно обучать все три модели без изменений кода\n",
        "\n",
        "* Попробовать каждую модель с двумя оптимизаторами: RMSprop и SGD with momentum\n",
        "\n",
        "* Визуализировать результаты перфоманса каждой модели (две метрики минимум для каждого сетапа, например, лосс и долю правильных ответов). В данном пункте мы ждем от вас визуализацию зависимости метрики от номера итерации обучения.\n",
        "\n",
        "* Сделать выводы какие были модели были лучше и как вы думаете почему?"
      ]
    },
    {
      "cell_type": "markdown",
      "metadata": {
        "id": "ZbSteKIDAPPI"
      },
      "source": [
        "###  Функции обучения и визуализации"
      ]
    },
    {
      "cell_type": "code",
      "metadata": {
        "id": "C8ORIuVduKQm"
      },
      "source": [
        "def visualize(n, loss_sgd, accuracy_sgd, loss_rms, accuracy_rms, iter):\n",
        "    fig, ax = plt.subplots(2, 2, figsize=(15, 10))\n",
        "    fig.suptitle(f'Model {n}, metrics', fontsize=20)\n",
        "\n",
        "    ax[0, 0].plot(iter, accuracy_sgd)\n",
        "    ax[0, 0].set_title('Validation accuracy, SGD')\n",
        "    ax[0, 0].set_xlabel('iteration')\n",
        "    ax[0, 0].set_ylabel('accuracy')\n",
        "\n",
        "    ax[0, 1].plot(iter, loss_sgd)\n",
        "    ax[0, 1].set_title('Validation loss, SGD')\n",
        "    ax[0, 1].set_xlabel('iteration')\n",
        "    ax[0, 1].set_ylabel('loss')\n",
        "\n",
        "    ax[1, 0].plot(iter, accuracy_rms)\n",
        "    ax[1, 0].set_title('Validation accuracy, RMSprop')\n",
        "    ax[1, 0].set_xlabel('iteration')\n",
        "    ax[1, 0].set_ylabel('accuracy')\n",
        "\n",
        "    ax[1, 1].plot(iter, loss_rms)\n",
        "    ax[1, 1].set_title('Validation loss, RMSprop')\n",
        "    ax[1, 1].set_xlabel('iteration')\n",
        "    ax[1, 1].set_ylabel('loss')\n",
        "\n",
        "    return plt.show()"
      ],
      "execution_count": 22,
      "outputs": []
    },
    {
      "cell_type": "code",
      "metadata": {
        "id": "JPSEHtUqMBYP"
      },
      "source": [
        "def train_model(model, epoch_n, train_dataloader, eval_dataloader, optimizer):\n",
        "    iter = 0\n",
        "    val_loss = []\n",
        "    val_accuracy = []\n",
        "    iterations = []\n",
        "\n",
        "    for epoch in tqdm(range(1, epoch_n)):\n",
        "        for X, y in train_dataloader:\n",
        "            X, y = X.to(device), y.to(device)\n",
        "            y_pred = model(X)\n",
        "\n",
        "            loss = nn.CrossEntropyLoss()(y_pred, y)\n",
        "            \n",
        "            loss.backward()\n",
        "            optimizer.step()\n",
        "            optimizer.zero_grad()\n",
        "\n",
        "            iter += 1\n",
        "\n",
        "        val_loss_epoch = []\n",
        "        val_accuracy_epoch = []\n",
        "\n",
        "        with torch.no_grad():\n",
        "            for X_val, y_val in eval_dataloader:\n",
        "                X_val, y_val = X_val.to(device), y_val.to(device)\n",
        "\n",
        "                y_pred_val = model(X_val) # делаем предсказания\n",
        "                loss_val = nn.CrossEntropyLoss()(y_pred_val, y_val) # считаем лосс\n",
        "                val_loss_epoch.append(loss_val.cpu().numpy()) # добавляем в массив \n",
        "                val_accuracy_epoch.extend((torch.argmax(y_pred_val, dim=-1) == y_val).cpu().numpy().tolist())\n",
        "\n",
        "        val_loss.append(np.mean(val_loss_epoch))\n",
        "        val_accuracy.append(np.mean(val_accuracy_epoch))\n",
        "        iterations.append(iter)\n",
        "        print(f'loss: {np.mean(val_loss_epoch)}')\n",
        "        print(f'accuracy: {np.mean(val_accuracy_epoch)}')\n",
        "    \n",
        "    return val_loss, val_accuracy, iterations"
      ],
      "execution_count": 23,
      "outputs": []
    },
    {
      "cell_type": "code",
      "metadata": {
        "id": "VP6Ze12FAfxb"
      },
      "source": [
        "# Оказалась не нужна, тк утром cuda заработал\n",
        "\n",
        "# эта функция нужна исключительно для того, чтобы применить ее к третьей модели, тк под конец колаб отказался выполнять функцию .to('cuda') \n",
        "# а я не хотела перезапускать первые две модели на cpu :)\n",
        "def train_third_model(model, epoch_n, train_dataloader, eval_dataloader, optimizer):\n",
        "    iter = 0\n",
        "    val_loss = []\n",
        "    val_accuracy = []\n",
        "    iterations = []\n",
        "\n",
        "    for epoch in tqdm(range(1, epoch_n)):\n",
        "        for X, y in train_dataloader:\n",
        "            X, y = X.to('cpu'), y.to('cpu')\n",
        "            y_pred = model(X)\n",
        "\n",
        "            loss = nn.CrossEntropyLoss()(y_pred, y)\n",
        "            \n",
        "            loss.backward()\n",
        "            optimizer.step()\n",
        "            optimizer.zero_grad()\n",
        "\n",
        "            iter += 1\n",
        "\n",
        "            if iter % 1000 == 0:\n",
        "                print(loss.item(), iter)\n",
        "        val_loss_epoch = []\n",
        "        val_accuracy_epoch = []\n",
        "\n",
        "        with torch.no_grad():\n",
        "            for X_val, y_val in eval_dataloader:\n",
        "                X_val, y_val = X_val.to('cpu'), y_val.to('cpu')\n",
        "\n",
        "                y_pred_val = model(X_val) # делаем предсказания\n",
        "                loss_val = nn.CrossEntropyLoss()(y_pred_val, y_val) # считаем лосс\n",
        "                val_loss_epoch.append(loss_val.cpu().numpy()) # добавляем в массив \n",
        "                val_accuracy_epoch.extend((torch.argmax(y_pred_val, dim=-1) == y_val).cpu().numpy().tolist())\n",
        "\n",
        "        val_loss.append(np.mean(val_loss_epoch))\n",
        "        val_accuracy.append(np.mean(val_accuracy_epoch))\n",
        "        iterations.append(iter)\n",
        "        print(f'loss: {np.mean(val_loss_epoch)}')\n",
        "        print(f'accuracy: {np.mean(val_accuracy_epoch)}')\n",
        "    \n",
        "    return val_loss, val_accuracy, iterations"
      ],
      "execution_count": 24,
      "outputs": []
    },
    {
      "cell_type": "markdown",
      "metadata": {
        "id": "5baJAmw3_dm_"
      },
      "source": [
        "### Model 1 (FC)"
      ]
    },
    {
      "cell_type": "markdown",
      "metadata": {
        "id": "P9V-rcpAWZe4"
      },
      "source": [
        "#### Код"
      ]
    },
    {
      "cell_type": "code",
      "metadata": {
        "id": "lCnC3Qo1MBYa",
        "outputId": "531c2aa9-7389-4887-8327-9fb8c7a74cd0",
        "colab": {
          "base_uri": "https://localhost:8080/"
        }
      },
      "source": [
        "class FirstModel(nn.Module):\n",
        "    def __init__(self, dropout=0.4):\n",
        "        super(FirstModel, self).__init__()\n",
        "        self.batch_norm = torch.nn.BatchNorm2d(1)\n",
        "        self.linear1 = torch.nn.Linear(in_features=28*28, out_features=128)\n",
        "        self.linear2 = torch.nn.Linear(in_features=128, out_features=64)\n",
        "        \n",
        "        self.output = torch.nn.Linear(in_features=64, out_features=10)\n",
        "        self.dropout = torch.nn.Dropout(p=dropout)\n",
        "        pass\n",
        "\n",
        "    def forward(self, x):\n",
        "        x = self.batch_norm(x)\n",
        "        x = x.view(x.size(0), -1)\n",
        "        x = F.relu(self.linear1(x))\n",
        "        x = self.dropout(x)\n",
        "        x = F.relu(self.linear2(x))\n",
        "        return self.output(x)\n",
        "        pass\n",
        "  \n",
        "first_m = FirstModel()\n",
        "first_m.to(device)"
      ],
      "execution_count": 25,
      "outputs": [
        {
          "output_type": "execute_result",
          "data": {
            "text/plain": [
              "FirstModel(\n",
              "  (batch_norm): BatchNorm2d(1, eps=1e-05, momentum=0.1, affine=True, track_running_stats=True)\n",
              "  (linear1): Linear(in_features=784, out_features=128, bias=True)\n",
              "  (linear2): Linear(in_features=128, out_features=64, bias=True)\n",
              "  (output): Linear(in_features=64, out_features=10, bias=True)\n",
              "  (dropout): Dropout(p=0.4, inplace=False)\n",
              ")"
            ]
          },
          "metadata": {
            "tags": []
          },
          "execution_count": 25
        }
      ]
    },
    {
      "cell_type": "code",
      "metadata": {
        "id": "wW9VC8lBfQGD",
        "outputId": "071e6d42-eda9-4f83-9d1b-9792b7b139db",
        "colab": {
          "base_uri": "https://localhost:8080/",
          "height": 1000,
          "referenced_widgets": [
            "ba62b6fedb9a45b78ac4a53136490a3d",
            "a5ce52314c294c82a729ed454ad7e124",
            "1c91fe6193a743669b2e411ee6b23a07",
            "9206055cf53d40a5bce0c16b2d908211",
            "1b5936d894ff4ba283a67050fb868612",
            "8ae4664c92dd4022ae678540edcba179",
            "b0b5843fa94b45d8bb1262e9fbafdebd",
            "a8ba46d45c5c46988ef314ddba50458b"
          ]
        }
      },
      "source": [
        "loss_sgd_1, accuracy_sgd_1, iter_1 = train_model(first_m, 50, train_dataloader, eval_dataloader, torch.optim.SGD(first_m.parameters(), lr=0.01))"
      ],
      "execution_count": 26,
      "outputs": [
        {
          "output_type": "stream",
          "text": [
            "/usr/local/lib/python3.6/dist-packages/ipykernel_launcher.py:7: TqdmDeprecationWarning: This function will be removed in tqdm==5.0.0\n",
            "Please use `tqdm.notebook.tqdm` instead of `tqdm.tqdm_notebook`\n",
            "  import sys\n"
          ],
          "name": "stderr"
        },
        {
          "output_type": "display_data",
          "data": {
            "application/vnd.jupyter.widget-view+json": {
              "model_id": "ba62b6fedb9a45b78ac4a53136490a3d",
              "version_minor": 0,
              "version_major": 2
            },
            "text/plain": [
              "HBox(children=(FloatProgress(value=0.0, max=49.0), HTML(value='')))"
            ]
          },
          "metadata": {
            "tags": []
          }
        },
        {
          "output_type": "stream",
          "text": [
            "loss: 0.5306215286254883\n",
            "accuracy: 0.8112\n",
            "loss: 0.47111624479293823\n",
            "accuracy: 0.8281\n",
            "loss: 0.46018216013908386\n",
            "accuracy: 0.8306\n",
            "loss: 0.4293695092201233\n",
            "accuracy: 0.8455\n",
            "loss: 0.4238625466823578\n",
            "accuracy: 0.8494\n",
            "loss: 0.41230690479278564\n",
            "accuracy: 0.8546\n",
            "loss: 0.40843379497528076\n",
            "accuracy: 0.8519\n",
            "loss: 0.4015808403491974\n",
            "accuracy: 0.8554\n",
            "loss: 0.410896897315979\n",
            "accuracy: 0.8555\n",
            "loss: 0.40527185797691345\n",
            "accuracy: 0.8577\n",
            "loss: 0.39067140221595764\n",
            "accuracy: 0.8629\n",
            "loss: 0.3901403546333313\n",
            "accuracy: 0.8651\n",
            "loss: 0.38680902123451233\n",
            "accuracy: 0.8656\n",
            "loss: 0.38306093215942383\n",
            "accuracy: 0.866\n",
            "loss: 0.38177651166915894\n",
            "accuracy: 0.8621\n",
            "loss: 0.4013439416885376\n",
            "accuracy: 0.8642\n",
            "loss: 0.3811213970184326\n",
            "accuracy: 0.869\n",
            "loss: 0.38031071424484253\n",
            "accuracy: 0.8653\n",
            "loss: 0.3764103353023529\n",
            "accuracy: 0.8692\n",
            "loss: 0.39136654138565063\n",
            "accuracy: 0.8631\n",
            "loss: 0.39372071623802185\n",
            "accuracy: 0.8626\n",
            "loss: 0.38988688588142395\n",
            "accuracy: 0.8687\n",
            "loss: 0.37589022517204285\n",
            "accuracy: 0.8701\n",
            "loss: 0.3938610255718231\n",
            "accuracy: 0.8693\n",
            "loss: 0.39100024104118347\n",
            "accuracy: 0.8677\n",
            "loss: 0.3733254373073578\n",
            "accuracy: 0.8713\n",
            "loss: 0.3804979920387268\n",
            "accuracy: 0.8671\n",
            "loss: 0.38300836086273193\n",
            "accuracy: 0.8682\n",
            "loss: 0.3836829960346222\n",
            "accuracy: 0.8678\n",
            "loss: 0.3890615403652191\n",
            "accuracy: 0.8674\n",
            "loss: 0.38235244154930115\n",
            "accuracy: 0.873\n",
            "loss: 0.3835460841655731\n",
            "accuracy: 0.8716\n",
            "loss: 0.38509562611579895\n",
            "accuracy: 0.8718\n",
            "loss: 0.3838726580142975\n",
            "accuracy: 0.8713\n",
            "loss: 0.39671027660369873\n",
            "accuracy: 0.8706\n",
            "loss: 0.38781705498695374\n",
            "accuracy: 0.8701\n",
            "loss: 0.3809472620487213\n",
            "accuracy: 0.8723\n",
            "loss: 0.3803574740886688\n",
            "accuracy: 0.8761\n",
            "loss: 0.3851190507411957\n",
            "accuracy: 0.8713\n",
            "loss: 0.3998792767524719\n",
            "accuracy: 0.8706\n",
            "loss: 0.39193880558013916\n",
            "accuracy: 0.8734\n",
            "loss: 0.3901534676551819\n",
            "accuracy: 0.8737\n",
            "loss: 0.3986697494983673\n",
            "accuracy: 0.8701\n",
            "loss: 0.40394723415374756\n",
            "accuracy: 0.8672\n",
            "loss: 0.38538849353790283\n",
            "accuracy: 0.8737\n",
            "loss: 0.3934490978717804\n",
            "accuracy: 0.8733\n",
            "loss: 0.39433905482292175\n",
            "accuracy: 0.8744\n",
            "loss: 0.39667704701423645\n",
            "accuracy: 0.8717\n",
            "loss: 0.39229026436805725\n",
            "accuracy: 0.8731\n",
            "\n"
          ],
          "name": "stdout"
        }
      ]
    },
    {
      "cell_type": "code",
      "metadata": {
        "id": "uSCAXwg4ioVI",
        "outputId": "b37a9814-8059-4102-8546-476aac43078e",
        "colab": {
          "base_uri": "https://localhost:8080/",
          "height": 1000,
          "referenced_widgets": [
            "af9b4cc6b1d8496d9480ee009a7089f5",
            "5a2dfacc146c4ba6951164eb32c39824",
            "d4928d172934402e935a086fbabe6af3",
            "8cf1efbfde93429ea23a7f7139e84658",
            "22300a779ae646e29498267c00dba1d4",
            "9e076f14275c416cb14ec9599ea74572",
            "1a32f0e5708e4b9da2c9f47ceb471edf",
            "2b8dc30c5e9b4b3187b4607e5fd8c091"
          ]
        }
      },
      "source": [
        "loss_rms_1, accuracy_rms_1, iter_1 = train_model(first_m, 50, train_dataloader, eval_dataloader, torch.optim.RMSprop(first_m.parameters(), lr=0.001))"
      ],
      "execution_count": 27,
      "outputs": [
        {
          "output_type": "stream",
          "text": [
            "/usr/local/lib/python3.6/dist-packages/ipykernel_launcher.py:7: TqdmDeprecationWarning: This function will be removed in tqdm==5.0.0\n",
            "Please use `tqdm.notebook.tqdm` instead of `tqdm.tqdm_notebook`\n",
            "  import sys\n"
          ],
          "name": "stderr"
        },
        {
          "output_type": "display_data",
          "data": {
            "application/vnd.jupyter.widget-view+json": {
              "model_id": "af9b4cc6b1d8496d9480ee009a7089f5",
              "version_minor": 0,
              "version_major": 2
            },
            "text/plain": [
              "HBox(children=(FloatProgress(value=0.0, max=49.0), HTML(value='')))"
            ]
          },
          "metadata": {
            "tags": []
          }
        },
        {
          "output_type": "stream",
          "text": [
            "loss: 0.49239516258239746\n",
            "accuracy: 0.8364\n",
            "loss: 0.45310845971107483\n",
            "accuracy: 0.839\n",
            "loss: 0.4413226842880249\n",
            "accuracy: 0.8435\n",
            "loss: 0.4295901954174042\n",
            "accuracy: 0.8497\n",
            "loss: 0.4044223129749298\n",
            "accuracy: 0.86\n",
            "loss: 0.4113730490207672\n",
            "accuracy: 0.8577\n",
            "loss: 0.4019555151462555\n",
            "accuracy: 0.862\n",
            "loss: 0.39552605152130127\n",
            "accuracy: 0.8613\n",
            "loss: 0.40551257133483887\n",
            "accuracy: 0.8608\n",
            "loss: 0.38919809460639954\n",
            "accuracy: 0.862\n",
            "loss: 0.3752514123916626\n",
            "accuracy: 0.8665\n",
            "loss: 0.3804740905761719\n",
            "accuracy: 0.8675\n",
            "loss: 0.3816320598125458\n",
            "accuracy: 0.8665\n",
            "loss: 0.3767004609107971\n",
            "accuracy: 0.8677\n",
            "loss: 0.387208491563797\n",
            "accuracy: 0.8689\n",
            "loss: 0.37620267271995544\n",
            "accuracy: 0.8725\n",
            "loss: 0.37297260761260986\n",
            "accuracy: 0.869\n",
            "loss: 0.3847111165523529\n",
            "accuracy: 0.8712\n",
            "loss: 0.38029083609580994\n",
            "accuracy: 0.8659\n",
            "loss: 0.3849310576915741\n",
            "accuracy: 0.8691\n",
            "loss: 0.3828638792037964\n",
            "accuracy: 0.8754\n",
            "loss: 0.3657456636428833\n",
            "accuracy: 0.8768\n",
            "loss: 0.3722062110900879\n",
            "accuracy: 0.8789\n",
            "loss: 0.3755735456943512\n",
            "accuracy: 0.8741\n",
            "loss: 0.3698450028896332\n",
            "accuracy: 0.8775\n",
            "loss: 0.3669723570346832\n",
            "accuracy: 0.877\n",
            "loss: 0.37006866931915283\n",
            "accuracy: 0.8757\n",
            "loss: 0.380851149559021\n",
            "accuracy: 0.8729\n",
            "loss: 0.36498743295669556\n",
            "accuracy: 0.8766\n",
            "loss: 0.39165645837783813\n",
            "accuracy: 0.8716\n",
            "loss: 0.37306568026542664\n",
            "accuracy: 0.872\n",
            "loss: 0.38973912596702576\n",
            "accuracy: 0.8779\n",
            "loss: 0.38018423318862915\n",
            "accuracy: 0.8728\n",
            "loss: 0.36989206075668335\n",
            "accuracy: 0.8762\n",
            "loss: 0.39392662048339844\n",
            "accuracy: 0.8742\n",
            "loss: 0.3821253478527069\n",
            "accuracy: 0.8747\n",
            "loss: 0.40670496225357056\n",
            "accuracy: 0.8732\n",
            "loss: 0.39140114188194275\n",
            "accuracy: 0.8754\n",
            "loss: 0.37067800760269165\n",
            "accuracy: 0.8761\n",
            "loss: 0.3891926109790802\n",
            "accuracy: 0.873\n",
            "loss: 0.3719160258769989\n",
            "accuracy: 0.8782\n",
            "loss: 0.4027036428451538\n",
            "accuracy: 0.8755\n",
            "loss: 0.38551774621009827\n",
            "accuracy: 0.8766\n",
            "loss: 0.3813815712928772\n",
            "accuracy: 0.8716\n",
            "loss: 0.39165449142456055\n",
            "accuracy: 0.872\n",
            "loss: 0.39497819542884827\n",
            "accuracy: 0.8754\n",
            "loss: 0.37500429153442383\n",
            "accuracy: 0.8744\n",
            "loss: 0.39711794257164\n",
            "accuracy: 0.8747\n",
            "loss: 0.3888087272644043\n",
            "accuracy: 0.876\n",
            "\n"
          ],
          "name": "stdout"
        }
      ]
    },
    {
      "cell_type": "markdown",
      "metadata": {
        "id": "eDjiFP46WeUF"
      },
      "source": [
        "#### Визуализация метрик"
      ]
    },
    {
      "cell_type": "code",
      "metadata": {
        "id": "_EXgBtVXuDwr",
        "outputId": "59f1ea1f-7de7-4270-d1c6-dc3ef0917307",
        "colab": {
          "base_uri": "https://localhost:8080/",
          "height": 680
        }
      },
      "source": [
        "visualize(1, loss_sgd_1, accuracy_sgd_1, loss_rms_1, accuracy_rms_1, iter_1)"
      ],
      "execution_count": 28,
      "outputs": [
        {
          "output_type": "display_data",
          "data": {
            "image/png": "[encoded data removed]",
            "text/plain": [
              "<Figure size 1080x720 with 4 Axes>"
            ]
          },
          "metadata": {
            "tags": []
          }
        }
      ]
    },
    {
      "cell_type": "markdown",
      "metadata": {
        "id": "ctI5Y6-3_ow4"
      },
      "source": [
        "### Model 2 (VGG-like)"
      ]
    },
    {
      "cell_type": "markdown",
      "metadata": {
        "id": "mc3ZhSDlWHvw"
      },
      "source": [
        "#### Код"
      ]
    },
    {
      "cell_type": "code",
      "metadata": {
        "id": "lTZAAKV2MBYj",
        "outputId": "30bbc611-e8e4-4de1-a577-58bcae3a7d82",
        "colab": {
          "base_uri": "https://localhost:8080/"
        }
      },
      "source": [
        "second_model = nn.Sequential(\n",
        "    nn.Conv2d(1, 32, 3, padding=1),\n",
        "    nn.BatchNorm2d(32),\n",
        "    nn.ReLU(),\n",
        "    nn.Conv2d(32, 32, 3, padding=1),\n",
        "    nn.BatchNorm2d(32),\n",
        "    nn.ReLU(),\n",
        "    nn.MaxPool2d(2, 2),\n",
        "    nn.Dropout(0.2),\n",
        "\n",
        "    nn.Conv2d(32, 64, 3, padding=1),\n",
        "    nn.BatchNorm2d(64),\n",
        "    nn.ReLU(),\n",
        "    nn.Conv2d(64, 64, 3, padding=1),\n",
        "    nn.BatchNorm2d(64),\n",
        "    nn.ReLU(),\n",
        "    nn.MaxPool2d(2, 2),\n",
        "    nn.Dropout(0.2),\n",
        "\n",
        "    nn.Flatten(),\n",
        "    nn.Linear(28*28 * 4, 32),\n",
        "    nn.BatchNorm1d(32),\n",
        "    nn.ReLU(),\n",
        "    nn.Dropout(0.5),\n",
        "    nn.Linear(32, 10),\n",
        "    nn.Softmax()\n",
        ")\n",
        "second_model.to(device)"
      ],
      "execution_count": 29,
      "outputs": [
        {
          "output_type": "execute_result",
          "data": {
            "text/plain": [
              "Sequential(\n",
              "  (0): Conv2d(1, 32, kernel_size=(3, 3), stride=(1, 1), padding=(1, 1))\n",
              "  (1): BatchNorm2d(32, eps=1e-05, momentum=0.1, affine=True, track_running_stats=True)\n",
              "  (2): ReLU()\n",
              "  (3): Conv2d(32, 32, kernel_size=(3, 3), stride=(1, 1), padding=(1, 1))\n",
              "  (4): BatchNorm2d(32, eps=1e-05, momentum=0.1, affine=True, track_running_stats=True)\n",
              "  (5): ReLU()\n",
              "  (6): MaxPool2d(kernel_size=2, stride=2, padding=0, dilation=1, ceil_mode=False)\n",
              "  (7): Dropout(p=0.2, inplace=False)\n",
              "  (8): Conv2d(32, 64, kernel_size=(3, 3), stride=(1, 1), padding=(1, 1))\n",
              "  (9): BatchNorm2d(64, eps=1e-05, momentum=0.1, affine=True, track_running_stats=True)\n",
              "  (10): ReLU()\n",
              "  (11): Conv2d(64, 64, kernel_size=(3, 3), stride=(1, 1), padding=(1, 1))\n",
              "  (12): BatchNorm2d(64, eps=1e-05, momentum=0.1, affine=True, track_running_stats=True)\n",
              "  (13): ReLU()\n",
              "  (14): MaxPool2d(kernel_size=2, stride=2, padding=0, dilation=1, ceil_mode=False)\n",
              "  (15): Dropout(p=0.2, inplace=False)\n",
              "  (16): Flatten()\n",
              "  (17): Linear(in_features=3136, out_features=32, bias=True)\n",
              "  (18): BatchNorm1d(32, eps=1e-05, momentum=0.1, affine=True, track_running_stats=True)\n",
              "  (19): ReLU()\n",
              "  (20): Dropout(p=0.5, inplace=False)\n",
              "  (21): Linear(in_features=32, out_features=10, bias=True)\n",
              "  (22): Softmax(dim=None)\n",
              ")"
            ]
          },
          "metadata": {
            "tags": []
          },
          "execution_count": 29
        }
      ]
    },
    {
      "cell_type": "code",
      "metadata": {
        "id": "_PUsjAPGr43V",
        "outputId": "32cfcd44-6eb4-4561-cb3f-8fc4505fbf36",
        "colab": {
          "base_uri": "https://localhost:8080/",
          "height": 1000,
          "referenced_widgets": [
            "4e172dc80db642828e8ed1342e9f2d0c",
            "657dc6c935b14d1e99a228f1edf762c7",
            "bf1f0ed774c94abd87e8b99c63094906",
            "6a65dcbad325417087f5b3098e0292c4",
            "292c59582200467b92dda355a6779b7c",
            "ffd34e5e9ab64b42a18e1ad18048bee2",
            "75be6719c78a404a8301d2ce961877ef",
            "cfb09672e7ad4dd08803fa84e831e6a4"
          ]
        }
      },
      "source": [
        "loss_sgd_2, accuracy_sgd_2, iter_2 = train_model(second_model, 50, train_dataloader, eval_dataloader, torch.optim.SGD(second_model.parameters(), lr=0.005))\n",
        "print(max(accuracy_sgd_2))"
      ],
      "execution_count": 30,
      "outputs": [
        {
          "output_type": "stream",
          "text": [
            "/usr/local/lib/python3.6/dist-packages/ipykernel_launcher.py:7: TqdmDeprecationWarning: This function will be removed in tqdm==5.0.0\n",
            "Please use `tqdm.notebook.tqdm` instead of `tqdm.tqdm_notebook`\n",
            "  import sys\n"
          ],
          "name": "stderr"
        },
        {
          "output_type": "display_data",
          "data": {
            "application/vnd.jupyter.widget-view+json": {
              "model_id": "4e172dc80db642828e8ed1342e9f2d0c",
              "version_minor": 0,
              "version_major": 2
            },
            "text/plain": [
              "HBox(children=(FloatProgress(value=0.0, max=49.0), HTML(value='')))"
            ]
          },
          "metadata": {
            "tags": []
          }
        },
        {
          "output_type": "stream",
          "text": [
            "/usr/local/lib/python3.6/dist-packages/torch/nn/modules/container.py:117: UserWarning: Implicit dimension choice for softmax has been deprecated. Change the call to include dim=X as an argument.\n",
            "  input = module(input)\n"
          ],
          "name": "stderr"
        },
        {
          "output_type": "stream",
          "text": [
            "loss: 1.9512604475021362\n",
            "accuracy: 0.649\n",
            "loss: 1.8471494913101196\n",
            "accuracy: 0.7033\n",
            "loss: 1.7959682941436768\n",
            "accuracy: 0.7302\n",
            "loss: 1.763710856437683\n",
            "accuracy: 0.7527\n",
            "loss: 1.742451548576355\n",
            "accuracy: 0.7657\n",
            "loss: 1.7286419868469238\n",
            "accuracy: 0.7732\n",
            "loss: 1.715233564376831\n",
            "accuracy: 0.7831\n",
            "loss: 1.7110049724578857\n",
            "accuracy: 0.7845\n",
            "loss: 1.6969969272613525\n",
            "accuracy: 0.7936\n",
            "loss: 1.695618987083435\n",
            "accuracy: 0.7927\n",
            "loss: 1.6919304132461548\n",
            "accuracy: 0.7952\n",
            "loss: 1.6883833408355713\n",
            "accuracy: 0.7961\n",
            "loss: 1.6819214820861816\n",
            "accuracy: 0.8017\n",
            "loss: 1.6798022985458374\n",
            "accuracy: 0.8005\n",
            "loss: 1.671572208404541\n",
            "accuracy: 0.8063\n",
            "loss: 1.6763023138046265\n",
            "accuracy: 0.8011\n",
            "loss: 1.6725043058395386\n",
            "accuracy: 0.8065\n",
            "loss: 1.6673012971878052\n",
            "accuracy: 0.8118\n",
            "loss: 1.6648415327072144\n",
            "accuracy: 0.8135\n",
            "loss: 1.6673678159713745\n",
            "accuracy: 0.8105\n",
            "loss: 1.6643636226654053\n",
            "accuracy: 0.8105\n",
            "loss: 1.6605126857757568\n",
            "accuracy: 0.8154\n",
            "loss: 1.6569358110427856\n",
            "accuracy: 0.8179\n",
            "loss: 1.6558613777160645\n",
            "accuracy: 0.8192\n",
            "loss: 1.654529333114624\n",
            "accuracy: 0.8202\n",
            "loss: 1.654401421546936\n",
            "accuracy: 0.8213\n",
            "loss: 1.6537071466445923\n",
            "accuracy: 0.8183\n",
            "loss: 1.6529302597045898\n",
            "accuracy: 0.8204\n",
            "loss: 1.6507234573364258\n",
            "accuracy: 0.8212\n",
            "loss: 1.6493661403656006\n",
            "accuracy: 0.8243\n",
            "loss: 1.6477608680725098\n",
            "accuracy: 0.8239\n",
            "loss: 1.64700448513031\n",
            "accuracy: 0.826\n",
            "loss: 1.6509921550750732\n",
            "accuracy: 0.8187\n",
            "loss: 1.6478482484817505\n",
            "accuracy: 0.8234\n",
            "loss: 1.6454750299453735\n",
            "accuracy: 0.8244\n",
            "loss: 1.6454048156738281\n",
            "accuracy: 0.8245\n",
            "loss: 1.6421244144439697\n",
            "accuracy: 0.8302\n",
            "loss: 1.6427427530288696\n",
            "accuracy: 0.8283\n",
            "loss: 1.6439251899719238\n",
            "accuracy: 0.8255\n",
            "loss: 1.6400097608566284\n",
            "accuracy: 0.8285\n",
            "loss: 1.6416432857513428\n",
            "accuracy: 0.8293\n",
            "loss: 1.6410185098648071\n",
            "accuracy: 0.8283\n",
            "loss: 1.642859697341919\n",
            "accuracy: 0.8259\n",
            "loss: 1.6397278308868408\n",
            "accuracy: 0.8287\n",
            "loss: 1.6391632556915283\n",
            "accuracy: 0.8284\n",
            "loss: 1.6384620666503906\n",
            "accuracy: 0.8293\n",
            "loss: 1.6398876905441284\n",
            "accuracy: 0.8253\n",
            "loss: 1.6370537281036377\n",
            "accuracy: 0.8294\n",
            "loss: 1.6364258527755737\n",
            "accuracy: 0.8306\n",
            "\n",
            "0.8306\n"
          ],
          "name": "stdout"
        }
      ]
    },
    {
      "cell_type": "code",
      "metadata": {
        "id": "_FAaeENDBW9_",
        "outputId": "0b591629-2d46-4a90-c317-9d85dd5df35c",
        "colab": {
          "base_uri": "https://localhost:8080/",
          "height": 1000,
          "referenced_widgets": [
            "411b8107e1b64c21b3899129253fb528",
            "c7e870d80e6543be8f096127c6746dee",
            "d2fc8d47a828407badb5275a84a27ef6",
            "fc05a5aa6e924b99b25f6c53d24cb12d",
            "c77cb23cf396447a9a2fea6a7d650a48",
            "f44287b6cec344d9b4f39ca2f7eb5a61",
            "f9cc52ec48c04a6292c27128a3f13634",
            "886522c55b944e6cbe92f4d102981d40"
          ]
        }
      },
      "source": [
        "loss_rms_2, accuracy_rms_2, iter_2 = train_model(second_model, 50, train_dataloader, eval_dataloader, torch.optim.RMSprop(second_model.parameters(), lr=0.01))"
      ],
      "execution_count": 31,
      "outputs": [
        {
          "output_type": "stream",
          "text": [
            "/usr/local/lib/python3.6/dist-packages/ipykernel_launcher.py:7: TqdmDeprecationWarning: This function will be removed in tqdm==5.0.0\n",
            "Please use `tqdm.notebook.tqdm` instead of `tqdm.tqdm_notebook`\n",
            "  import sys\n"
          ],
          "name": "stderr"
        },
        {
          "output_type": "display_data",
          "data": {
            "application/vnd.jupyter.widget-view+json": {
              "model_id": "411b8107e1b64c21b3899129253fb528",
              "version_minor": 0,
              "version_major": 2
            },
            "text/plain": [
              "HBox(children=(FloatProgress(value=0.0, max=49.0), HTML(value='')))"
            ]
          },
          "metadata": {
            "tags": []
          }
        },
        {
          "output_type": "stream",
          "text": [
            "/usr/local/lib/python3.6/dist-packages/torch/nn/modules/container.py:117: UserWarning: Implicit dimension choice for softmax has been deprecated. Change the call to include dim=X as an argument.\n",
            "  input = module(input)\n"
          ],
          "name": "stderr"
        },
        {
          "output_type": "stream",
          "text": [
            "loss: 1.6712355613708496\n",
            "accuracy: 0.7901\n",
            "loss: 1.640593409538269\n",
            "accuracy: 0.8213\n",
            "loss: 1.6320583820343018\n",
            "accuracy: 0.8299\n",
            "loss: 1.6237577199935913\n",
            "accuracy: 0.8372\n",
            "loss: 1.6284273862838745\n",
            "accuracy: 0.8326\n",
            "loss: 1.6113554239273071\n",
            "accuracy: 0.8505\n",
            "loss: 1.6117175817489624\n",
            "accuracy: 0.8487\n",
            "loss: 1.6133841276168823\n",
            "accuracy: 0.8474\n",
            "loss: 1.6105670928955078\n",
            "accuracy: 0.85\n",
            "loss: 1.610711932182312\n",
            "accuracy: 0.8499\n",
            "loss: 1.6045072078704834\n",
            "accuracy: 0.8567\n",
            "loss: 1.6028233766555786\n",
            "accuracy: 0.8582\n",
            "loss: 1.6206378936767578\n",
            "accuracy: 0.8407\n",
            "loss: 1.6048613786697388\n",
            "accuracy: 0.8564\n",
            "loss: 1.6027462482452393\n",
            "accuracy: 0.8576\n",
            "loss: 1.6000621318817139\n",
            "accuracy: 0.8607\n",
            "loss: 1.596792221069336\n",
            "accuracy: 0.8636\n",
            "loss: 1.6051658391952515\n",
            "accuracy: 0.8555\n",
            "loss: 1.5938680171966553\n",
            "accuracy: 0.8674\n",
            "loss: 1.5932989120483398\n",
            "accuracy: 0.8671\n",
            "loss: 1.5956754684448242\n",
            "accuracy: 0.8646\n",
            "loss: 1.6012389659881592\n",
            "accuracy: 0.86\n",
            "loss: 1.5918858051300049\n",
            "accuracy: 0.8692\n",
            "loss: 1.5955519676208496\n",
            "accuracy: 0.8653\n",
            "loss: 1.6001158952713013\n",
            "accuracy: 0.86\n",
            "loss: 1.5929980278015137\n",
            "accuracy: 0.8678\n",
            "loss: 1.5960108041763306\n",
            "accuracy: 0.8644\n",
            "loss: 1.5936846733093262\n",
            "accuracy: 0.8673\n",
            "loss: 1.5889712572097778\n",
            "accuracy: 0.8716\n",
            "loss: 1.5942230224609375\n",
            "accuracy: 0.867\n",
            "loss: 1.5902189016342163\n",
            "accuracy: 0.8704\n",
            "loss: 1.5889239311218262\n",
            "accuracy: 0.8715\n",
            "loss: 1.587449312210083\n",
            "accuracy: 0.8734\n",
            "loss: 1.5884605646133423\n",
            "accuracy: 0.8717\n",
            "loss: 1.59683358669281\n",
            "accuracy: 0.8636\n",
            "loss: 1.5870503187179565\n",
            "accuracy: 0.8731\n",
            "loss: 1.5861824750900269\n",
            "accuracy: 0.8749\n",
            "loss: 1.587839961051941\n",
            "accuracy: 0.8726\n",
            "loss: 1.5898926258087158\n",
            "accuracy: 0.8711\n",
            "loss: 1.598235011100769\n",
            "accuracy: 0.8627\n",
            "loss: 1.582537055015564\n",
            "accuracy: 0.8779\n",
            "loss: 1.5912060737609863\n",
            "accuracy: 0.8693\n",
            "loss: 1.5840524435043335\n",
            "accuracy: 0.8769\n",
            "loss: 1.5850279331207275\n",
            "accuracy: 0.8755\n",
            "loss: 1.5889296531677246\n",
            "accuracy: 0.872\n",
            "loss: 1.5819480419158936\n",
            "accuracy: 0.8794\n",
            "loss: 1.5892753601074219\n",
            "accuracy: 0.8711\n",
            "loss: 1.5816442966461182\n",
            "accuracy: 0.8794\n",
            "loss: 1.5880900621414185\n",
            "accuracy: 0.8734\n",
            "\n"
          ],
          "name": "stdout"
        }
      ]
    },
    {
      "cell_type": "markdown",
      "metadata": {
        "id": "eMI8kOb8WPZA"
      },
      "source": [
        "#### Визуализация метрик"
      ]
    },
    {
      "cell_type": "code",
      "metadata": {
        "id": "4VLNPBJP1bHd",
        "outputId": "12ef5be9-c11f-4a48-91df-ab5777dfbca8",
        "colab": {
          "base_uri": "https://localhost:8080/",
          "height": 680
        }
      },
      "source": [
        "visualize(2, loss_sgd_2, accuracy_sgd_2, loss_rms_2, accuracy_rms_2, iter_2)"
      ],
      "execution_count": 32,
      "outputs": [
        {
          "output_type": "display_data",
          "data": {
            "image/png": "[encoded data removed]",
            "text/plain": [
              "<Figure size 1080x720 with 4 Axes>"
            ]
          },
          "metadata": {
            "tags": []
          }
        }
      ]
    },
    {
      "cell_type": "markdown",
      "metadata": {
        "id": "0duwF1Pgdbdd"
      },
      "source": [
        "### Model 3 (ResNet)"
      ]
    },
    {
      "cell_type": "markdown",
      "metadata": {
        "id": "cQjDmO9mWzkP"
      },
      "source": [
        "#### Код"
      ]
    },
    {
      "cell_type": "code",
      "metadata": {
        "id": "r-uceZ1P1m3k"
      },
      "source": [
        "def conv3x3(in_channels, out_channels, stride=1):\n",
        "    return nn.Conv2d(in_channels, out_channels, kernel_size=3, \n",
        "                     stride=stride, padding=1, bias=False)\n",
        "\n",
        "class ResBlock(nn.Module):\n",
        "    def __init__(self, in_channels, out_channels, stride=1, downsample=None):\n",
        "        super(ResBlock, self).__init__()\n",
        "        self.conv1 = conv3x3(in_channels, out_channels, stride)\n",
        "        self.bn1 = nn.BatchNorm2d(out_channels)\n",
        "        self.relu = nn.ReLU(inplace=True)\n",
        "        self.downsample = downsample\n",
        "        \n",
        "    def forward(self, x):\n",
        "        residual = x\n",
        "        out = self.conv1(x)\n",
        "        out = self.bn1(out)\n",
        "        if self.downsample:\n",
        "            residual = self.downsample(x)\n",
        "        out += residual\n",
        "        out = self.relu(out)\n",
        "        return out\n",
        "\n",
        "\n",
        "class ResNet(nn.Module):\n",
        "    def __init__(self, block, layers, num_classes=10):\n",
        "        super(ResNet, self).__init__()\n",
        "        self.in_channels = 32\n",
        "        self.conv = conv3x3(1, 32)\n",
        "        self.bn = nn.BatchNorm2d(32)\n",
        "        self.relu = nn.ReLU(inplace=True)\n",
        "        self.layer1 = self.make_layer(block, 32, layers[0])\n",
        "        self.layer2 = self.make_layer(block, 64, layers[1], 2)\n",
        "        self.avg_pool = nn.AvgPool2d(4)\n",
        "        self.fc1 = nn.Linear(64*3*3, 32)\n",
        "        self.fc2 = nn.Linear(32, num_classes)\n",
        "        \n",
        "    def make_layer(self, block, out_channels, blocks, stride=1):\n",
        "        downsample = None\n",
        "        if (stride != 1) or (self.in_channels != out_channels):\n",
        "            downsample = nn.Sequential(\n",
        "                conv3x3(self.in_channels, out_channels, stride=stride),\n",
        "                nn.BatchNorm2d(out_channels))\n",
        "        layers = []\n",
        "        layers.append(block(self.in_channels, out_channels, stride, downsample))\n",
        "        self.in_channels = out_channels\n",
        "        for i in range(1, blocks):\n",
        "            layers.append(block(out_channels, out_channels))\n",
        "        return nn.Sequential(*layers)\n",
        "    \n",
        "    def forward(self, x):\n",
        "        out = self.conv(x)\n",
        "        out = self.bn(out)\n",
        "        out = self.relu(out)\n",
        "        out = self.layer1(out)\n",
        "        out = self.layer2(out)\n",
        "        out = self.avg_pool(out)\n",
        "        out = out.view(out.size(0), -1)\n",
        "        out = self.relu(self.fc1(out))\n",
        "        out = self.fc2(out)\n",
        "\n",
        "        return out"
      ],
      "execution_count": 36,
      "outputs": []
    },
    {
      "cell_type": "code",
      "metadata": {
        "id": "aNq8QN2T7CHI",
        "outputId": "e40331f8-e615-4942-a9a1-2d09d62c6797",
        "colab": {
          "base_uri": "https://localhost:8080/"
        }
      },
      "source": [
        "third_model = ResNet(ResBlock, [1, 1, 1])\n",
        "third_model.to(device)"
      ],
      "execution_count": 37,
      "outputs": [
        {
          "output_type": "execute_result",
          "data": {
            "text/plain": [
              "ResNet(\n",
              "  (conv): Conv2d(1, 32, kernel_size=(3, 3), stride=(1, 1), padding=(1, 1), bias=False)\n",
              "  (bn): BatchNorm2d(32, eps=1e-05, momentum=0.1, affine=True, track_running_stats=True)\n",
              "  (relu): ReLU(inplace=True)\n",
              "  (layer1): Sequential(\n",
              "    (0): ResBlock(\n",
              "      (conv1): Conv2d(32, 32, kernel_size=(3, 3), stride=(1, 1), padding=(1, 1), bias=False)\n",
              "      (bn1): BatchNorm2d(32, eps=1e-05, momentum=0.1, affine=True, track_running_stats=True)\n",
              "      (relu): ReLU(inplace=True)\n",
              "    )\n",
              "  )\n",
              "  (layer2): Sequential(\n",
              "    (0): ResBlock(\n",
              "      (conv1): Conv2d(32, 64, kernel_size=(3, 3), stride=(2, 2), padding=(1, 1), bias=False)\n",
              "      (bn1): BatchNorm2d(64, eps=1e-05, momentum=0.1, affine=True, track_running_stats=True)\n",
              "      (relu): ReLU(inplace=True)\n",
              "      (downsample): Sequential(\n",
              "        (0): Conv2d(32, 64, kernel_size=(3, 3), stride=(2, 2), padding=(1, 1), bias=False)\n",
              "        (1): BatchNorm2d(64, eps=1e-05, momentum=0.1, affine=True, track_running_stats=True)\n",
              "      )\n",
              "    )\n",
              "  )\n",
              "  (avg_pool): AvgPool2d(kernel_size=4, stride=4, padding=0)\n",
              "  (fc1): Linear(in_features=576, out_features=32, bias=True)\n",
              "  (fc2): Linear(in_features=32, out_features=10, bias=True)\n",
              ")"
            ]
          },
          "metadata": {
            "tags": []
          },
          "execution_count": 37
        }
      ]
    },
    {
      "cell_type": "code",
      "metadata": {
        "id": "NoTmx5U9MBYr",
        "outputId": "add8fb4b-b4a1-4f1c-8575-8676c74dce42",
        "colab": {
          "base_uri": "https://localhost:8080/",
          "height": 1000,
          "referenced_widgets": [
            "1243bbfab27d4619b95369f750c660b1",
            "04c4e643a1e542c082d6e00272645329",
            "f607e0c4292b4439b798284d41301e53",
            "66a61c95debb4734a20dd14a3114bb91",
            "eaf245026742476d9bd66e65989f6926",
            "fd38de6f20db4c39988df398eee02aa0",
            "8b94c40f19a641fda331ba9b61939a34",
            "91ac8998aa8840dda18e3be6660f7812"
          ]
        }
      },
      "source": [
        "loss_sgd_3, accuracy_sgd_3, iter_3 = train_model(third_model, 21, train_dataloader, eval_dataloader, torch.optim.SGD(third_model.parameters(), lr=0.005))\n",
        "print(max(accuracy_sgd_3))\n",
        "# тут я выводила еще и train_loss на каждой 1000-й итерации, чтобы убедиться, что модель вообще работает, и понять, как быстро (или скорее долго) она обучается"
      ],
      "execution_count": 144,
      "outputs": [
        {
          "output_type": "stream",
          "text": [
            "/usr/local/lib/python3.6/dist-packages/ipykernel_launcher.py:9: TqdmDeprecationWarning: This function will be removed in tqdm==5.0.0\n",
            "Please use `tqdm.notebook.tqdm` instead of `tqdm.tqdm_notebook`\n",
            "  if __name__ == '__main__':\n"
          ],
          "name": "stderr"
        },
        {
          "output_type": "display_data",
          "data": {
            "application/vnd.jupyter.widget-view+json": {
              "model_id": "1243bbfab27d4619b95369f750c660b1",
              "version_minor": 0,
              "version_major": 2
            },
            "text/plain": [
              "HBox(children=(FloatProgress(value=0.0, max=20.0), HTML(value='')))"
            ]
          },
          "metadata": {
            "tags": []
          }
        },
        {
          "output_type": "stream",
          "text": [
            "0.6687523126602173 1000\n",
            "loss: 0.582780659198761\n",
            "accuracy: 0.7841\n",
            "0.45382779836654663 2000\n",
            "0.5565486550331116 3000\n",
            "loss: 0.4902494251728058\n",
            "accuracy: 0.8192\n",
            "0.652513325214386 4000\n",
            "0.555367648601532 5000\n",
            "loss: 0.43630290031433105\n",
            "accuracy: 0.8453\n",
            "0.3745945990085602 6000\n",
            "0.2551296651363373 7000\n",
            "loss: 0.39425238966941833\n",
            "accuracy: 0.8594\n",
            "0.5068217515945435 8000\n",
            "0.2724630534648895 9000\n",
            "loss: 0.38287296891212463\n",
            "accuracy: 0.8639\n",
            "0.11506036669015884 10000\n",
            "0.2292301207780838 11000\n",
            "loss: 0.3478911519050598\n",
            "accuracy: 0.8791\n",
            "0.3726329207420349 12000\n",
            "0.2953804135322571 13000\n",
            "loss: 0.3500225245952606\n",
            "accuracy: 0.8746\n",
            "0.21834143996238708 14000\n",
            "0.3246515095233917 15000\n",
            "loss: 0.35843977332115173\n",
            "accuracy: 0.8714\n",
            "0.32292911410331726 16000\n",
            "loss: 0.32196044921875\n",
            "accuracy: 0.885\n",
            "0.2549991011619568 17000\n",
            "0.11450644582509995 18000\n",
            "loss: 0.3317102789878845\n",
            "accuracy: 0.8809\n",
            "0.286190003156662 19000\n",
            "0.1498054563999176 20000\n",
            "loss: 0.3248406648635864\n",
            "accuracy: 0.8801\n",
            "0.6123897433280945 21000\n",
            "0.24977654218673706 22000\n",
            "loss: 0.3156990706920624\n",
            "accuracy: 0.8863\n",
            "0.6481874585151672 23000\n",
            "0.16712921857833862 24000\n",
            "loss: 0.29601284861564636\n",
            "accuracy: 0.8939\n",
            "0.17484281957149506 25000\n",
            "0.14779114723205566 26000\n",
            "loss: 0.29728683829307556\n",
            "accuracy: 0.8925\n",
            "0.23149150609970093 27000\n",
            "0.4819442629814148 28000\n",
            "loss: 0.28367576003074646\n",
            "accuracy: 0.8989\n",
            "0.1917513757944107 29000\n",
            "0.2818566858768463 30000\n",
            "loss: 0.29511794447898865\n",
            "accuracy: 0.8956\n",
            "0.15615583956241608 31000\n",
            "loss: 0.29405415058135986\n",
            "accuracy: 0.894\n",
            "0.33856290578842163 32000\n",
            "0.2152647227048874 33000\n",
            "loss: 0.30709004402160645\n",
            "accuracy: 0.8898\n",
            "0.2363426387310028 34000\n",
            "0.5509854555130005 35000\n",
            "loss: 0.2723706066608429\n",
            "accuracy: 0.9011\n",
            "0.4274047911167145 36000\n",
            "0.09999233484268188 37000\n",
            "loss: 0.278160959482193\n",
            "accuracy: 0.8981\n",
            "\n",
            "0.9011\n"
          ],
          "name": "stdout"
        }
      ]
    },
    {
      "cell_type": "code",
      "metadata": {
        "id": "LiZ_v2GaP1Fl",
        "outputId": "ac37b129-747a-49da-a56d-22ebd0925ecb",
        "colab": {
          "base_uri": "https://localhost:8080/",
          "height": 1000,
          "referenced_widgets": [
            "d96c20b253aa48d9b83addb2e1f24036",
            "14008f8336ea427395f6d6b9406d17e5",
            "50027eb74c4744f885551e4575914a94",
            "81659449903d48d59b40a48ff47b4853",
            "3da640abeec44dd18c561d461049c511",
            "782ab2a22e9c4583ad07c26d3ee8f7b4",
            "1c75edef79384605a596a728699d9943",
            "b17d96cf76114081a556f6583055d01c"
          ]
        }
      },
      "source": [
        "loss_rms_3, accuracy_rms_3, iter_3 = train_third_model(third_model, 21, train_dataloader, eval_dataloader, torch.optim.RMSprop(third_model.parameters(), lr=0.005))\n",
        "print(max(accuracy_sgd_3))"
      ],
      "execution_count": 148,
      "outputs": [
        {
          "output_type": "stream",
          "text": [
            "/usr/local/lib/python3.6/dist-packages/ipykernel_launcher.py:9: TqdmDeprecationWarning: This function will be removed in tqdm==5.0.0\n",
            "Please use `tqdm.notebook.tqdm` instead of `tqdm.tqdm_notebook`\n",
            "  if __name__ == '__main__':\n"
          ],
          "name": "stderr"
        },
        {
          "output_type": "display_data",
          "data": {
            "application/vnd.jupyter.widget-view+json": {
              "model_id": "d96c20b253aa48d9b83addb2e1f24036",
              "version_minor": 0,
              "version_major": 2
            },
            "text/plain": [
              "HBox(children=(FloatProgress(value=0.0, max=20.0), HTML(value='')))"
            ]
          },
          "metadata": {
            "tags": []
          }
        },
        {
          "output_type": "stream",
          "text": [
            "0.3976410925388336 1000\n",
            "loss: 0.3905875086784363\n",
            "accuracy: 0.86\n",
            "0.38377293944358826 2000\n",
            "0.40602919459342957 3000\n",
            "loss: 0.3258238434791565\n",
            "accuracy: 0.8777\n",
            "0.20068219304084778 4000\n",
            "0.20533102750778198 5000\n",
            "loss: 0.3061755299568176\n",
            "accuracy: 0.8891\n",
            "0.35904034972190857 6000\n",
            "0.2581119239330292 7000\n",
            "loss: 0.29930734634399414\n",
            "accuracy: 0.8927\n",
            "0.48296067118644714 8000\n",
            "0.4781169891357422 9000\n",
            "loss: 0.28658169507980347\n",
            "accuracy: 0.8985\n",
            "0.1958743929862976 10000\n",
            "0.2308647334575653 11000\n",
            "loss: 0.2914848327636719\n",
            "accuracy: 0.8943\n",
            "0.25167471170425415 12000\n",
            "0.24228572845458984 13000\n",
            "loss: 0.2850768268108368\n",
            "accuracy: 0.8997\n",
            "0.18719178438186646 14000\n",
            "0.13745325803756714 15000\n",
            "loss: 0.2889379858970642\n",
            "accuracy: 0.8989\n",
            "0.20931196212768555 16000\n",
            "loss: 0.2792821526527405\n",
            "accuracy: 0.9048\n",
            "0.07082612812519073 17000\n",
            "0.158605694770813 18000\n",
            "loss: 0.29025688767433167\n",
            "accuracy: 0.9015\n",
            "0.16877597570419312 19000\n",
            "0.21842634677886963 20000\n",
            "loss: 0.288040429353714\n",
            "accuracy: 0.9019\n",
            "0.129038468003273 21000\n",
            "0.10438486188650131 22000\n",
            "loss: 0.2803504467010498\n",
            "accuracy: 0.9066\n",
            "0.13738249242305756 23000\n",
            "0.3631380796432495 24000\n",
            "loss: 0.2999938428401947\n",
            "accuracy: 0.9005\n",
            "0.26917076110839844 25000\n",
            "0.06562136113643646 26000\n",
            "loss: 0.3041447699069977\n",
            "accuracy: 0.9028\n",
            "0.21879659593105316 27000\n",
            "0.11070410162210464 28000\n",
            "loss: 0.30571430921554565\n",
            "accuracy: 0.9073\n",
            "0.15421713888645172 29000\n",
            "0.31571176648139954 30000\n",
            "loss: 0.3212168216705322\n",
            "accuracy: 0.9003\n",
            "0.20404531061649323 31000\n",
            "loss: 0.34665071964263916\n",
            "accuracy: 0.9005\n",
            "0.0318254679441452 32000\n",
            "0.28124433755874634 33000\n",
            "loss: 0.3114008903503418\n",
            "accuracy: 0.9091\n",
            "0.023041848093271255 34000\n",
            "0.1899241805076599 35000\n",
            "loss: 0.32979142665863037\n",
            "accuracy: 0.9057\n",
            "0.2366509884595871 36000\n",
            "0.14421851933002472 37000\n",
            "loss: 0.3743075132369995\n",
            "accuracy: 0.8925\n",
            "\n",
            "0.9011\n"
          ],
          "name": "stdout"
        }
      ]
    },
    {
      "cell_type": "markdown",
      "metadata": {
        "id": "EEKXa-x_W3OG"
      },
      "source": [
        "#### Визуализация метрик"
      ]
    },
    {
      "cell_type": "code",
      "metadata": {
        "id": "FZ8QdQdIOG07",
        "outputId": "b5cc4778-dd91-4933-af87-5effa0c9fc11",
        "colab": {
          "base_uri": "https://localhost:8080/",
          "height": 680
        }
      },
      "source": [
        "visualize(3, loss_sgd_3, accuracy_sgd_3, loss_rms_3, accuracy_rms_3, iter_3)\n"
      ],
      "execution_count": 149,
      "outputs": [
        {
          "output_type": "display_data",
          "data": {
            "image/png": "[encoded data removed]",
            "text/plain": [
              "<Figure size 1080x720 with 4 Axes>"
            ]
          },
          "metadata": {
            "tags": []
          }
        }
      ]
    },
    {
      "cell_type": "markdown",
      "metadata": {
        "id": "0aK-d6pp8SKd"
      },
      "source": [
        "### Summary"
      ]
    },
    {
      "cell_type": "code",
      "metadata": {
        "id": "wsAcfMP59N1p",
        "outputId": "ccb94d2f-b9ae-4691-8c3b-6f48c0df0530",
        "colab": {
          "base_uri": "https://localhost:8080/"
        }
      },
      "source": [
        "print('\\033[1m' + 'SGD optimizer, best accuracies' + '\\033[0m')\n",
        "print(f'Linear Net: {max(accuracy_sgd_1)}')\n",
        "print(f'VGG-like Net: {max(accuracy_sgd_2)}')\n",
        "print(f'ResNet: 0.9011')\n",
        "print('')\n",
        "print('\\033[1m' + 'RMSprop optimizer, best accuracies:' + '\\033[0m')\n",
        "print(f'Linear Net: {max(accuracy_rms_1)}')\n",
        "print(f'VGG-like Net: {max(accuracy_rms_2)}')\n",
        "print(f'ResNet: 0.9011')"
      ],
      "execution_count": 47,
      "outputs": [
        {
          "output_type": "stream",
          "text": [
            "\u001b[1mSGD optimizer, best accuracies\u001b[0m\n",
            "Linear Net: 0.8761\n",
            "VGG-like Net: 0.8306\n",
            "ResNet: 0.9011\n",
            "\n",
            "\u001b[1mRMSprop optimizer, best accuracies:\u001b[0m\n",
            "Linear Net: 0.8789\n",
            "VGG-like Net: 0.8794\n",
            "ResNet: 0.9011\n"
          ],
          "name": "stdout"
        }
      ]
    },
    {
      "cell_type": "markdown",
      "metadata": {
        "id": "EoeG1N7f_uj5"
      },
      "source": [
        "Таким образом, по результатам обучения моделей видно, что лучше всего себя проявило некое подобие (даже супер упрощенное) ResNet даже при условии, что он обучался всего 20 эпох вместо 49. \n",
        "Скорее всего это связано с глубиной нейронной сети, но еще тут можно добавить, что третья модель благодаря шорткат-соединению помогает оптимизатору легче подобрать веса близкими к нулю, нежели создавать тождественное преобразование. Это в свою очередь способствует дальнейшему улучшению качества с добавлением новых слоев. \n",
        "\n",
        "Все графики представлены в подразделе визуализация метрик в разделе каждой модели (можно свернуть код и оставить только графики, чтобы сравнить их нагляднее)\n",
        "\n",
        "PS:  выводила метрики только на валидационной выборке"
      ]
    },
    {
      "cell_type": "code",
      "metadata": {
        "id": "NHODPOvwBxCz"
      },
      "source": [
        ""
      ],
      "execution_count": null,
      "outputs": []
    }
  ]
}